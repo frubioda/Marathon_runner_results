
In [2]:

#Import all runner info from the csv prepared with Google Refine
import csv
runner=[]
f = open('MCM.csv', 'rt')
try:
    reader = csv.DictReader(f)
    for row in reader:
        runner.append(row)
finally:
    f.close()

In [ ]:

#Get a list of cities and Ages
#Count uniques
from collections import Counter

Places=[r['Location'] for r in runner if 'Location' in r]
Places_counts = Counter(Places)
len(Places_counts)
Places_counts.most_common(10)


#Make a dictionary with Places, their location, and number of runners
Places_dic={}
for r in runner:
    for P in Places_counts:
	
	if r['Location']==P:  #runner is from that place
		if P in Places_dic:
		  #not the first time, add info to this location
		  Places_dic[P]['runners']+=1
		  Places_dic[P]['Time'].append(int(r['ChipTimeSeconds']))
		  Places_dic[P]['Ages'].append(int(r['Age']))
		  Places_dic[P]['Gender'].append(r['Sex'])
		  if Places_dic[P]['lat']=='':
			Places_dic[P]['lat']=r['lat']
			print 'gotcha'
		  if Places_dic[P]['lng']=='':
			Places_dic[P]['lng']=r['lat']
			print 'gotcha'
		else:
		  #first time, add dictionary
		  Places_dic[P]={}
		  Places_dic[P]['runners']=1
		  Places_dic[P]['Time']=[int(r['ChipTimeSeconds'])]
		  Places_dic[P]['Ages']=[int(r['Age'])]
		  Places_dic[P]['Gender']=[r['Sex']]
		  Places_dic[P]['lat']=r['lat']
		  Places_dic[P]['lng']=r['lng']
		  print 'new place:',P

#add pertentiles to Places
from scipy import stats
for P in Places_dic:
	ages=np.asarray(Places_dic[P]['Ages'])
	times=np.asarray(Places_dic[P]['Time'])
	Places_dic[P]['Age_p']=[stats.scoreatpercentile(ages,10),stats.scoreatpercentile(ages,50),stats.scoreatpercentile(ages,90)]
	Places_dic[P]['Times_p']=[stats.scoreatpercentile(times,10),stats.scoreatpercentile(times,50),stats.scoreatpercentile(times,90)]
	Places_dic[P]['Gender']=[Places_dic['WASHINGTON,DC']['Gender'].count('M'),Places_dic['WASHINGTON,DC']['Gender'].count('F')]	
	Places_dic[P]['fastest']=np.min(times)
	Places_dic[P]['median']=np.median(times)


#Save aggregated data to csv
writer = csv.writer(open("MCM-a.csv", 'w'), delimiter=',',quoting=csv.QUOTE_ALL)
header=['Location']
for key in Places_dic["WASHINGTON,DC"]:
	header.append(key)
writer.writerow(header)

for P in Places_dic:
	row=[P]
	for key in Places_dic[P]:
		row.append(Places_dic[P][key])
	writer.writerow(row)

In [3]:

Ages=[r['Age'] for r in runner if 'Age' in r]
Age_counts = Counter(Ages)
len(Age_counts)
Age_counts.most_common(10)


import numpy as np
import matplotlib.pyplot as plt
#Histogram of Ages
Ages=np.array(map(float,[r['Age'] for r in runner if 'Age' in r]))
Ages_m=np.array(map(float,[r['Age'] for r in runner if r['Sex']=='M']))
Ages_f=np.array(map(float,[r['Age'] for r in runner if r['Sex']=='F']))

plt.hist((Ages_f,Ages_m),np.arange(1,20.)*5,histtype='bar',label=('Female','Male'),color=('red','blue'))
plt.legend()
plt.xticks(np.arange(1,20)*5)
plt.xlabel('Age')
plt.ylabel('Runners')
plt.title('Age histogram by Gender')
plt.show()

In [1]:

#Histogram of Time
Time=np.array(map(float,[r['ChipTimeSeconds'] for r in runner if 'ChipTimeSeconds' in r]))/60/60
Time_m=np.array(map(float,[r['ChipTimeSeconds'] for r in runner if r['Sex']=='M']))/60/60
Time_f=np.array(map(float,[r['ChipTimeSeconds'] for r in runner if r['Sex']=='F']))/60/60

plt.hist((Time_f,Time_m),np.arange(2*5,7.5*5)/5.,histtype='bar',label=('Female','Male'),color=('red','blue'))
plt.legend()
plt.xticks(np.arange(2*5,7.5*5)/5.,rotation=45)
plt.xlabel('Hours')
plt.ylabel('Runners')
plt.title('Time histogram by Gender')
plt.show()

#scatter

plt.scatter(Ages_f,Time_f,marker='.',color='red',label='Female')
plt.scatter(Ages_m,Time_m,marker='.',color='blue',label='Male')
plt.scatter(Ages_f,Time_f,marker='.',color='red')
plt.xlabel('Age')
plt.ylabel('Hours')
plt.title('Scatterplot Hours by Age')
plt.legend()
plt.show()

#Scatter with subsample of pairs
import random
subl=random.sample(np.arange(1,len(Ages)),1000)
subl_m=random.sample(np.arange(1,len(Ages_m)),7000)
subl_f=random.sample(np.arange(1,len(Ages_f)),7000)
sub_Time_m=list( Time_m[i] for i in subl_m)
sub_Time_f=list( Time_f[i] for i in subl_f )
sub_Ages_m=list( Ages_m[i] for i in subl_m )
sub_Ages_f=list( Ages_f[i] for i in subl_f )

plt.scatter(sub_Ages_f,sub_Time_f,marker='.',color='red')
plt.scatter(sub_Ages_m,sub_Time_m,marker='.',color='blue')
plt.scatter(sub_Ages_f,sub_Time_f,marker='.',color='red')
plt.xlabel('Age')
plt.ylabel('Hours')
plt.title('Scatterplot Hours by Age')
plt.show()

#Get Half marathon time in seconds:
for run in runner:
  if run['Half']:
	time=run['Half'].split(':')
	run['HalfTime']=(float(time[0])*60*60)+(float(time[1])*60)+(float(time[2]))


#Histogram of Half Time
HTime_m=np.array(map(float,[r['HalfTime'] for r in runner if ('HalfTime' in r and r['Sex']=='M')]))/60/60
HTime_f=np.array(map(float,[r['HalfTime'] for r in runner if ('HalfTime' in r and r['Sex']=='F') ]))/60/60
HTime=np.array(map(float,[r['HalfTime'] for r in runner if 'HalfTime' in r]))/60/60

Time_H=np.array(map(float,[r['ChipTimeSeconds'] for r in runner if 'HalfTime' in r]))/60/60
Ages_H=np.array(map(float,[r['Age'] for r in runner if 'HalfTime' in r]))
Time_H_m=np.array(map(float,[r['ChipTimeSeconds'] for r in runner if ('HalfTime' in r and r['Sex']=='M')]))/60/60
Time_H_f=np.array(map(float,[r['ChipTimeSeconds'] for r in runner if ('HalfTime'  in r and r['Sex']=='F')]))/60/60
Ages_H_f=np.array(map(float,[r['Age'] for r in runner if ('HalfTime' in r and r['Sex']=='F') ]))
Ages_H_m=np.array(map(float,[r['Age'] for r in runner if ('HalfTime' in r and r['Sex']=='M') ]))

#Scatter
plt.scatter(Time_H_m-(HTime_m*2),Ages_H_m, color='blue',label='Male')
plt.scatter(Time_H_f-(HTime_f*2),Ages_H_f, color='red', label='Female')
plt.xlabel('Excess hours from 2*Half_time')
plt.ylabel('Age')
plt.title('Scatterplot Excess Time by Age')
plt.legend()
plt.show()



#Function to get seconds from time like 1:30:30
def count_sec(lista):
	return np.sum(np.array([np.int(a) for a in lista.split(':')])*[60*60,60,1])
#Order by ClockTime-ChipTime (similar to order before start)	
for r in runner:
	r['Start_order']=count_sec(r['ChipTime'])-count_sec(r['ClockTime'])
	r['End_order']=count_sec(r['ChipTime'])

Start=sorted(runner, key=lambda k: k['Start_order'])
End=  sorted(runner, key=lambda k: k['End_order'])

#Change in the order
from operator import itemgetter
change=[]
for r in runner:
	index_s=map(itemgetter('Bib'),Start).index(r['Bib'])
	index_e=map(itemgetter('Bib'),End).index(r['Bib'])
	r['Change']=index_s-index_e

changes=np.array(map(float,[r['Change'] for r in runner if 'Change' in r]))
Time_H=np.array(map(float,[r['ChipTimeSeconds'] for r in runner if 'ChipTimeSeconds' in r]))/60/60
plt.scatter(changes,Time_H)
plt.show()

new place: COLORADO SPRINGS,CO
new place: ELLICOTT CITY,MD
new place: WASHINGTON,DC
new place: ALEXANDRA,VA
new place: FALLS CHURCH,VA
new place: VIRGINIA BEACH,VA
new place: DURHAM,NC
new place: ANNAPOLIS,MD
new place: ERIE,PA
new place: 
new place: ALEXANDRIA,VA
new place: FAIRFAX,VA
new place: SUGAR LAND,TX
new place: MONUMENT,CO
new place: COLUMBIA,MD
new place: SAN CLEMENTE,CA
new place: NEW ORLEANS,LA
new place: FLAGSTAFF,AZ
new place: EXTON,PA
new place: CAMP PENDLETON,CA
new place: CENTENNIAL,CO
gotcha
gotcha
new place: VIENNA,VA
new place: MINNEOLA,FL
gotcha
gotcha
new place: ROCHESTER HILLS,MI
new place: KENSINGTON,MD
new place: MONTEREY,CA
new place: SHEPERDSTOWN,WV
new place: SEATTLE,WA
new place: BERKELEY,CA
new place: CARLSBAD,CA
new place: NEW YORK,NY
new place: USAF ACADEMY,CO
new place: ALBUQUERQUE,NM
new place: ARLINGTON,VA
new place: RICHMOND,VA
new place: QUANTICO,VA
gotcha
gotcha
gotcha
gotcha
new place: WAXHAW,NC
gotcha
gotcha
gotcha
gotcha
new place: SILVER SPRING,MD
new place: SOUTH RIDING,VA
new place: LORTON,VA
new place: CHARLOTTESVILLE,VA
new place: BALTIMORE,MD
new place: OSSINING,NY
new place: APO,AE
new place: LOUISVILLE,KY
new place: CHEVY CHASE,MD
new place: RANDOLPH,ME
new place: NIAGARA FALLS,NY
new place: DOVER,DE
new place: JERSEY SHORE,PA
new place: ABERDEEN,SD
new place: DAYTON,OH
new place: MYRTLE BEACH,SC
new place: BOWIE,MD
new place: FRONT ROYAL,VA
new place: HARRISBURG,PA
new place: THE WOODLANDS,TX
new place: ROCKVILLE,MD
gotcha
gotcha
new place: CINCINNATI,OH
new place: MCMURRAY,PA
new place: CROFTON,MD
new place: OCEANSIDE,CA
new place: OAKTON,VA
new place: AUBURN,AL
new place: GAINESVILLE,VA
new place: BOWLING GREEN,KY
new place: NEW HAVEN,CT
new place: WEST ROXBURY,MA
new place: HELOTES,TX
new place: MCLEAN,VA
new place: RALEIGH,NC
new place: MECHANICSVILLE,MD
new place: VERNON,CT
new place: LOCUST GROVE,VA
gotcha
gotcha
gotcha
gotcha
new place: WOODBRIDGE,VA
new place: PALMER,AK
new place: EAST STROUDSBURG,PA
new place: NORWALK,CT
new place: BRISTOW,VA
new place: RESTON,VA
new place: BRISTOL,RI
new place: WINCHESTER,VA
new place: GAITHERSBURG,MD
new place: CLEVELAND HEIGHTS,OH
new place: CHANTILLY,VA
new place: LAKE STEVENS,WA
new place: CHESAPEAKE BEACH,MD
new place: PITTSBURGH,PA
new place: BERNARDSVILLE,NJ
new place: BRANDON,FL
new place: BOLLING AFB,DC
new place: GREENVILLE,NC
new place: GENEVA,IL
new place: UNIVERSITY PARK,MD
new place: BROOKLINE,MA
new place: WESLEY CHAPEL,FL
new place: FREDERICKSBURG,VA
new place: SAN DIEGO,CA
new place: SUCCASUNNA,NJ
new place: VANCOUVER,WA
new place: FORT HUACHUCA,AZ
new place: ATLANTA,GA
new place: LONG BEACH,CA
new place: CORNING,NY
new place: LOS ALTOS,CA
new place: SPRINGFIELD,VA
new place: ASHBURN,VA
new place: QUINCY,MA
new place: BETHLEHEM,PA
new place: EAST AURORA,NY
new place: DELTONA,FL
new place: HAVELOCK,NC
new place: WATERTOWN,NY
new place: LAWRENCEVILLE,NJ
new place: NEWTON,MA
new place: PENSACOLA,FL
new place: PRINCETON,MA
new place: WEST POINT,NY
new place: ESTACADA,OR
new place: LAND O LAKES,FL
new place: GREENVILLE,SC
gotcha
gotcha
new place: ROCHESTER,MN
new place: SANDYSTON,NJ
new place: MECHANICSBURG,PA
new place: HENRICO,VA
new place: MADISON,MS
new place: DALLAS,TX
new place: ST PAUL,MN
new place: WHEELING,WV
new place: MEDFORD,MA
new place: NORTH BETHESDA,MD
new place: TRUMBULL,CT
new place: PLAINFIELD,IL
new place: OLNEY,MD
new place: HOBOKEN,NJ
new place: SAN ANTONIO,TX
new place: SOUTH BOSTON,MA
new place: MARTINSBURG,WV
new place: ANNANDALE,VA
new place: LANGHORNE,PA
new place: DELRAN,NJ
new place: PHOENIX,AZ
new place: COLLEGE PARK,MD
new place: HOUSTON,TX
new place: BELLE VERNON,PA
new place: YORKTOWN,VA
gotcha
gotcha
gotcha
gotcha
gotcha
gotcha
new place: MANASSAS,VA
new place: WEST CHESTER,PA
new place: ELMENDORF AIR FORC,AK
new place: OAK HILL,VA
new place: MILLERSVILLE,MD
new place: SUNNYVALE,CA
new place: MOUNT PLEASANT,SC
new place: DELMAR,NY
new place: ARDMORE,PA
new place: WILMINGTON,DE
new place: EMERALD ISLE,NC
new place: OWINGS,MD
new place: GRAFTON,MA
new place: STAFFORD,VA
gotcha
gotcha
gotcha
gotcha
new place: INDIANAPOLIS,IN
new place: RIDGELAND,MS
gotcha
gotcha
new place: PHILADELPHIA,PA
new place: PRINCETON,NJ
new place: EAST BRUNSWICK,NJ
new place: ANCHORAGE,AK
gotcha
gotcha
new place: PORTSMOUTH,RI
gotcha
gotcha
new place: PARKTON,MD
new place: CHAMBERSBURG,PA
new place: CARNEGIE,PA
new place: GREAT NECK,NY
new place: NORTHVILLE,MI
new place: PEACHTREE CITY,GA
new place: JACKSONVILLE,NC
new place: MORRISTOWN,NJ
new place: NEWPORT BEACH,CA
new place: WESTFORD,VT
new place: MINNEAPOLIS,MN
new place: CORNELIUS,NC
new place: BURLINGTON,KY
new place: OCEANSDIE,CA
gotcha
gotcha
new place: LEXINGTON,SC
new place: PAPILLION,NE
new place: TRURO,MA
new place: POTOMAC,MD
new place: CUMMING,GA
new place: RUSSELL,PA
new place: WILLOUGHBY,OH
gotcha
gotcha
new place: LITITZ,PA
new place: SEVERN,MD
new place: SOMERVILLE,MA
gotcha
gotcha
new place: CROTON,NY
new place: PRAIRIE VILLAGE,KS
new place: WHISPERING PINES,NC
new place: DOWNINGTOWN,PA
gotcha
gotcha
new place: CLEVELAND,OH
new place: CENTREVILLE,VA
gotcha
gotcha
new place: NORTH POTOMAC,MD
new place: LINCOLN,RI
new place: REDMOND,WA
gotcha
gotcha
new place: BROOKFIELD,WI
new place: GLEN ELLYN,IL
new place: VALDOSTA,GA
new place: BATON ROUGE,LA
new place: CHARLOTTE,NC
new place: EMMAUS,PA
new place: HOLLAND,MI
new place: BETHESDA,MD
gotcha
gotcha
new place: NATICK,MA
new place: LAUREL,MD
new place: HYATTSVILLE,MD
new place: GAINESVILLE,FL
new place: PLYMOUTH,MA
new place: APT 109,DC
new place: NEWARK,NJ
new place: SAINT SIMONS ISLAN,GA
new place: WEAVERVILLE,NC
gotcha
gotcha
new place: SAINT JOHNS,FL
new place: WASHOUGAL,WA
new place: TABOR CITY,NC
new place: JACKSONVILLE,FL
gotcha
gotcha
new place: LIGONIER,PA
new place: HERNDON,VA
new place: NORCROSS,GA
new place: CANTON,GA
new place: HOLLIS,NH
gotcha
gotcha
gotcha
gotcha
gotcha
gotcha
new place: MONTGOMERY,AL
gotcha
gotcha
new place: BERKELEY HEIGHTS,NJ
new place: FORT COLLINS,CO
gotcha
gotcha
new place: MELROSE,MA
new place: CINCINNAATI,OH
new place: SALT LAKE CITY,UT
new place: GRAHAM,WA
new place: GRAYSLAKE,IL
new place: DAVIDSONVILLE,MD
new place: ANNVILLE,PA
new place: WAKE FOREST,NC
new place: CHICAGO,IL
new place: TAKOMA PARK,MD
new place: BUCKHANNON,WV
new place: FANNETTSBURG,PA
gotcha
gotcha
gotcha
gotcha
gotcha
gotcha
new place: BRANDENBURG,KY
gotcha
gotcha
new place: JOHNSON CITY,TN
new place: VERNON,NJ
new place: ALESANDRIA,VA
new place: FLEMINGTON,NJ
new place: CALIFON,NJ
new place: MONTPELIER,VT
new place: STOW,OH
gotcha
gotcha
new place: BRIGHTON,CO
new place: DARIEN,CT
new place: PELLA,IA
new place: CENTER VALLEY,PA
new place: WINSTON-SALEM,NC
new place: SOUTHBURY,CT
new place: WILLISTON,VT
new place: TACOMA,WA
gotcha
gotcha
gotcha
gotcha
gotcha
gotcha
new place: RIVERSIDE,CA
new place: DES PERES,MO
new place: SCHERTZ,TX
gotcha
gotcha
gotcha
gotcha
gotcha
gotcha
new place: MARLTON,NJ
new place: LEESBURG,VA
gotcha
gotcha
new place: SEASIDE,CA
new place: GERMANTOWN,MD
new place: RONKONKOMA,NY
new place: PASADENA,MD
new place: PORTLAND,OR
new place: HAUPPAUGE,NY
new place: ST. LOUIS,MO
gotcha
gotcha
new place: NORFOLK,VA
new place: DILLSBURG,PA
new place: CHURCHVILLE,MD
new place: BOSTON,MA
new place: STERLING,VA
new place: SLATE HILL,NY
new place: LANHAM,MD
new place: BOCA RATON,FL
new place: WEST SIMSBURY,CT
new place: NORTHFIELD,MN
new place: DAVIE,FL
new place: PEARL CITY,HI
new place: PORT TOBACCO,MD
new place: CHESAPEAKE,VA
new place: VALLEY GROVE,WV
new place: WINNETKA,IL
new place: GEORGETOWN,TX
new place: CAMBRIDGE,MA
new place: BROOKEVILLE,MD
new place: HAMMOND,LA
new place: BEL AIR,MD
gotcha
gotcha
new place: AURORA,OH
new place: BURKE,VA
new place: OKEMOS,MI
new place: MANWAH,NJ
new place: BROOKLYN,NY
gotcha
gotcha
new place: TAMPA,FL
new place: N MASSAPEQUA,NY
new place: WILDWOOD,MO
new place: CICERO,NY
gotcha
gotcha
new place: MUSCLE SHOALS,AL
new place: WILMINGTON,NC
new place: WESTFIELD,NJ
new place: KENT,OH
gotcha
gotcha
new place: GOFFSTOWN,NH
new place: HAVERHILL,MA
new place: TUCSON,AZ
new place: MATTHEWS,NC
gotcha
gotcha
new place: NASHVILLE,TN
new place: CALIFORNIA,MD
gotcha
gotcha
gotcha
gotcha
gotcha
gotcha
new place: COVENTRY,RI
new place: DERWOOD,MD
new place: NEW BERN,NC
new place: METAIRIE,LA
new place: LEAVENWORTH,KS
new place: FORT SILL,OK
gotcha
gotcha
new place: HAMPTON,NH
new place: HILLSBORO,OR
new place: SHAKER HEIGHTS,OH
gotcha
gotcha
new place: HINSDALE,IL
new place: GREER,SC
gotcha
gotcha
gotcha
gotcha
new place: WAPPINGERS FALLS,NY
new place: OMAHA,NE
new place: PURCELLVILLE,VA
new place: NY,NY
new place: ROANOKE,VA
gotcha
gotcha
new place: FORT CAMPBELL,KY
gotcha
gotcha
new place: EASTHAMPTON,MA
new place: ORLANDO,FL
gotcha
gotcha
new place: ALBANY,NY
new place: OVIEDO,FL
new place: MILTON,VT
gotcha
gotcha
new place: SNEADS FERRY,NC
new place: TEMPE,AZ
new place: EVERGREEN,CO
new place: ORCHARD PARK,NY
new place: NORTH ANDOVER,MA
new place: ELKTON,MD
new place: BROOKIYN,NY
new place: ABINGDON,MD
new place: SARTELL,MN
new place: BIRMINGHAM,AL
new place: KNOXVILLE,TN
new place: SEA CLIFF,NY
new place: WILLIAMSBURG,VA
new place: RENO,NV
new place: SIERRA VISTA,AZ
new place: DES PLAINES,IL
new place: SHEPPARD AFB,TX
gotcha
gotcha
new place: NEW CUMBERLAND,PA
gotcha
gotcha
new place: GLEN ROCK,PA
new place: YORK,PA
gotcha
gotcha
new place: BEVERLY,MA
new place: BAY VILLAGE,OH
new place: RIDGEFIELD,CT
new place: LEBANON,PA
new place: WESTERVILLE,OH
new place: COLUMBIA,SC
new place: HAYMARKET,VA
new place: BEAUFORT,SC
gotcha
gotcha
new place: SAN MARCOS,CA
gotcha
gotcha
new place: LYNCHBURG,VA
new place: ADVANCE,NC
new place: MIDLOTHIAN,VA
new place: MOORESVILLE,NC
new place: BRNACHVILLE,NJ
new place: MOUNT ROYAL,NJ
new place: COLUMBUS,OH
gotcha
gotcha
new place: MARCY,NY
new place: WAKEFIELD,MA
new place: GULF BREEZE,FL
new place: LEONARDTOWN,MD
new place: HATBORO,PA
new place: CHESTER SPRINGS,PA
new place: LITTLETON,CO
new place: JERSEY CITY,NJ
new place: MADISON,NJ
new place: OCALA,FL
new place: BEDFORD,MA
gotcha
gotcha
new place: NEWPORT NEWS,VA
new place: MOOSIC,PA
new place: BUDD LAKE,NJ
new place: BOOTHBAY,ME
new place: PARKERSBURG,WV
new place: ASHEVILLE,NC
new place: QUARRYVILLE,PA
new place: DORCHESTER,MA
new place: CORAL GABLES,FL
new place: NEW ROCHELLE,NY
new place: FULTON,MD
new place: SAN JOSE,CA
new place: WASHINGTON CROSSIN,PA
new place: NEWBURYPORT,MA
new place: FLOURTOWN,PA
new place: SAINT PETERSBURG,FL
new place: MARIETTA,GA
new place: WESTMINSTER,MD
new place: DUNKIRK,MD
new place: BOCA RATn++N,FL
new place: GREENWICH,CT
new place: TOLLAND,CT
new place: HIGH POINT,NC
gotcha
gotcha
new place: LEVITTOWN,PA
new place: MUSKEGO,WI
new place: GREENVILLE,RI
new place: ARLINGTON,MA
new place: CAPE CORAL,FL
gotcha
gotcha
new place: HANOVER,PA
new place: OKLAHOMA CITY,OK
new place: SANTA FE SPRINGS,CA
new place: YORK,ME
gotcha
gotcha
new place: ODENTON,MD
new place: IRVINE,CA
new place: COLONIAL HEIGHTS,VA
new place: GASTONIA,NC
gotcha
gotcha
new place: NEY YORK,NY
gotcha
gotcha
new place: KINGWOOD,TX
new place: PENNINGTON,NJ
gotcha
gotcha
new place: KINGS MOUNTAIN,NC
new place: KINGSTON,PA
gotcha
gotcha
new place: FAIRFAX STATION,VA
new place: CLARKSBURG,MD
new place: TULSA,OK
new place: MECHANICSVILLE,VA
new place: LEXINGTON,MA
gotcha
gotcha
new place: AUSTIN,TX
new place: WINDSOR MILL,MD
gotcha
gotcha
new place: BUCKINGHAM,PA
new place: PROSPECT,KY
new place: LAKE JACKSON,TX
new place: CHESTER,MD
new place: MISSOURI CITY,TX
gotcha
gotcha
gotcha
gotcha
new place: LAS CRUCES,NM
new place: RED LION,PA
new place: RIVERDALE,UT
new place: ARLINGTON HTS,IL
new place: TOMS RIVER,NJ
gotcha
gotcha
new place: FPO,AP
new place: GLEN CARBON,IL
new place: GLASTONBURY,CT
gotcha
gotcha
new place: ATHENS,GA
new place: SAN FRANCISCO,CA
gotcha
gotcha
new place: PITTSFORD,NY
new place: CAMP LEJEUNE,NC
gotcha
gotcha
new place: ENCINITAS,CA
new place: STOCKTON,CA
gotcha
gotcha
new place: MARLBOROUGH,MA
new place: WYOMING,PA
new place: SAINT AUGUSTINE,FL
new place: ORLAND PARK,IL
new place: DUMFRIES,VA
new place: EVANS,GA
new place: DERBY,KS
new place: LEWISTON,ME
new place: ARLINGTON HEIGHTS,IL
new place: FLOWER MOUND,TX
new place: VERONA,NJ
new place: TOWSON,MD
gotcha
gotcha
gotcha
gotcha
new place: NASHUA,NH
gotcha
gotcha
new place: CULPEPPER,VA
new place: MIDDLETOWN,DE
new place: MERRIMACK,NH
new place: MIDLAND,TX
new place: ST LEONARD,MD
new place: HUDSON,FL
new place: WOODSTOCK,MD
new place: LIBERTY TOWNSHIP,OH
new place: NEW PORT RICHEY,FL
gotcha
gotcha
new place: LEXINGTON,KY
new place: HARVARD,MA
new place: ALTOONA,PA
new place: BRUNSWICK,ME
new place: BRIARCLIFF MANOR,NY
gotcha
gotcha
new place: NEW BEDFORD,MA
new place: BEAR,DE
new place: SPRING LAKE,NC
new place: GREENACRES,WA
new place: EMERSON,NJ
new place: HOLLAND,PA
new place: BLUE ASH,OH
gotcha
gotcha
new place: LORAIN,OH
new place: DANIA,FL
new place: STANHOPE,NJ
new place: SHELBYVILLE,IN
new place: MANCHESTER,NH
new place: STATEN ISLAND,NY
new place: MOBILE,AL
gotcha
gotcha
new place: WESTLAND,MI
new place: HUBERT,NC
new place: LINCOLNSHIRE,IL
new place: ESSEX JCT,VT
new place: DARNESTOWN,MD
gotcha
gotcha
new place: COMSTOCK PARK,MI
new place: NORTH BRUNSWICK,NJ
new place: LAFAYETTE,IN
new place: CRANBERRY TWP,PA
new place: NEW ALBANY,IN
new place: FREDERICK,MD
new place: CONSHOHOCKEN,PA
new place: FAYETTEVILLE,AR
new place: FORT BELVOIR,VA
new place: BEALETON,VA
new place: HOWELL,NJ
gotcha
gotcha
new place: SUMMIT,NJ
new place: PORT WASHINGTON,NY
new place: ETTERS,PA
new place: WARRENTON,VA
new place: BOULDER,CO
gotcha
gotcha
new place: DELAWARE,OH
new place: CHARLESTON,WV
gotcha
gotcha
new place: LUMBERTON,NJ
new place: SEVERNA PARK,MD
new place: LOS ALAMOS,NM
new place: TALLAHASSEE,FL
new place: WEST HOLLYWOOD,CA
new place: ELVERSON,PA
new place: SYRACUSE,UT
new place: EDINA,MN
new place: MELBOURNE,KY
new place: FRANKLIN,VA
new place: IOWA CITY,IA
new place: BURNSVILLE,MN
new place: WASHINGTON,WV
new place: ROCKVILLE CENTRE,NY
new place: SPOTSYLVANIA,VA
new place: CLIFTON,VA
new place: ALTAMONTE SPRINGS,FL
gotcha
gotcha
new place: AUGUSTA,GA
gotcha
gotcha
new place: DUNEDIN,FL
gotcha
gotcha
new place: PORTLAND,ME
new place: CARLISLE,PA
new place: BLOOMINGTON,IL
new place: ABINGDON,VA
new place: COLLEGEVILLE,PA
new place: DALLAS,PA
new place: HOCKESSIN,DE
new place: COOKSVILLE,MD
new place: STAR CITY,WV
new place: NESHANIC STATION,NJ
new place: FAIRVIEW,PA
new place: SURF CITY,NC
new place: SPRING HILL,FL
new place: MOOREFIELD,WV
new place: WELLESLEY,MA
new place: MIDDLETOWN,RI
new place: KITTERY,ME
new place: SANTA BARBARA,CA
new place: MEDIA,PA
new place: TACOMA,MD
new place: ROME,NY
new place: SYLVANIA,OH
new place: BERWYN HEIGHTS,MD
gotcha
gotcha
new place: CATONSVILLE,MD
new place: USAFA,CO
new place: LAKE BLUFF,IL
new place: STAUNTON,VA
new place: HARKER HEIGHTS,TX
gotcha
gotcha
new place: HINGHAM,MA
gotcha
gotcha
new place: SOUTH DENNIS,MA
new place: MILTON,MA
new place: GRAND RAPIDS,MI
new place: WELLINGTON,CO
new place: SWANSBORO,NC
new place: RYDAL,PA
new place: HUNTERSVILLE,NC
new place: ORMOND BEACH,FL
new place: GUNNISON,CO
new place: LA GRANGE,IL
new place: URBANDALE,IA
gotcha
gotcha
gotcha
gotcha
new place: STIRLING,NJ
new place: BROCKPORT,NY
new place: DAMASCUS,MD
new place: SANTO DOMINGO,FL
new place: GREENSBORO,PA
new place: BLANDFORD,MA
gotcha
gotcha
new place: KUTZTOWN,PA
new place: KENNESAW,GA
gotcha
gotcha
new place: GIBSONIA,PA
gotcha
gotcha
new place: FAYETTEVILLE,NC
new place: HILLIARD,OH
new place: SAN RAFAEL,CA
new place: RENTON,WA
new place: MORRISVILLE,NC
new place: DOVER,NH
new place: REDONDO BEACH,CA
new place: TRENTON,NJ
new place: CARRBORO,NC
new place: CHAPMANVILLE,WV
new place: SPRINGFIELD,IL
new place: WAUPACA,WI
new place: FORT MYER,VA
new place: MACUNGIE,PA
new place: HAMPSTEAD,NC
gotcha
gotcha
new place: GREENSBURG,PA
new place: NORTH CHARLESTON,SC
new place: DAVIDSON,NC
new place: CASTLE ROCK,CO
gotcha
gotcha
new place: LARCHMONT,NY
new place: PICKERINGTON,OH
new place: NAPERVILLE,IL
gotcha
gotcha
new place: SALEM,OH
gotcha
gotcha
new place: BASKING RIDGE,NJ
new place: JOHNSTOWN,PA
new place: WOODBRIDGE,NJ
new place: GREENBELT,MD
new place: PELHAM,NY
gotcha
gotcha
new place: PARKVILLE,MD
new place: FARMINGTON HILLS,MI
gotcha
gotcha
new place: LAFAYETTE,TN
new place: NYACK,NY
new place: HOPKINTON,NH
new place: CHARLES TOWN,MA
gotcha
gotcha
new place: HOPEWELL,NJ
new place: FALLS CHURCH,GA
new place: BEACHWOOD,OH
new place: OLD BRIDGE,NJ
new place: WICHITA,KS
new place: FORT LEE,VA
new place: ROUND LAKE,IL
gotcha
gotcha
new place: ABERDEEN,NC
gotcha
gotcha
new place: CHELMSFORD,MA
new place: MILWAUKIE,OR
new place: MABLETON,GA
gotcha
gotcha
new place: WILBRAHAM,MA
new place: EAGAN,MN
new place: LITHIA,FL
new place: GREENSBORO,NC
new place: STATE COLLEGE,PA
new place: ELIZABETH CITY,NC
new place: LINCOLN,NE
new place: EL PASO,TX
new place: DUNCAN,SC
new place: WHITE HALL,PA
new place: BOUNTIFUL,UT
gotcha
gotcha
new place: NORTHPORT,NY
new place: CENTERVILLE,VA
new place: MONITOR DR,VA
new place: LITTLE SILVER,NJ
gotcha
gotcha
new place: FRANKLIN,NH
new place: GREAT MILLS,MD
new place: SIMI VALLEY,CA
new place: CLINTON CORNERS,NY
new place: CLARKSVILLE,MD
new place: CROZET,VA
new place: FLETCHER,NC
new place: LANCASTER,PA
new place: PENNSVILLE,NJ
gotcha
gotcha
gotcha
gotcha
new place: IRON STATION,NC
new place: COLD SPRING,NY
gotcha
gotcha
new place: GREENWOOD VILLAGE,CO
gotcha
gotcha
new place: BENTONVILLE,AR
new place: KINNELON,NJ
gotcha
gotcha
gotcha
gotcha
new place: KENT,WA
new place: RANSON,WV
new place: MILTON,WA
new place: WOODSTOCK,GA
new place: LAWRENCE,KS
gotcha
gotcha
new place: EPHRATA,PA
new place: EASTON,NY
new place: MAPLE VALLEY,WA
new place: JAMAICA PLAIN,MA
new place: BROX,NY
new place: SOMERSET,MA
new place: MONTCLAIR,VA
new place: CHAPEL HILL,NC
new place: NEW PROVIDENCE,NJ
new place: HIGHLAND VILLAGE,TX
new place: FORT MILL,SC
new place: GARDEN CITY,MI
gotcha
gotcha
gotcha
gotcha
gotcha
gotcha
new place: MADISON,WI
new place: SPARKS,MD
new place: ABSECON,NJ
new place: EDISON,NJ
new place: MEADVILLE,PA
gotcha
gotcha
gotcha
gotcha
new place: MIDWAY PARK,NC
new place: CHESWICK,PA
new place: FOSTER CITY,CA
new place: GORE,VA
gotcha
gotcha
gotcha
gotcha
new place: SAN LEANDRO,CA
gotcha
gotcha
new place: BONITA SPRINGS,FL
new place: UPPER MARLBORO,MD
new place: ORADELL,NJ
new place: WASHINGTON,VA
new place: OVERLAND PARK,KS
new place: SOLON,OH
new place: CLEAR SPRING,MD
gotcha
gotcha
new place: ESCONDIDO,CA
new place: ANN ARBOR,MI
new place: BOONVILLE,NC
new place: WESTON,MA
new place: NEWARK,DE
new place: MERION STATION,PA
gotcha
gotcha
new place: DESTIN,FL
new place: ESTON,MD
gotcha
gotcha
new place: SYKESVILLE,MD
new place: SOUTH SETAUKET,NY
new place: CAPE MAY,NJ
new place: LONG BRANCH,NJ
gotcha
gotcha
gotcha
gotcha
new place: LEOMINSTER,MA
new place: NEWTOWN,PA
gotcha
gotcha
new place: GALSTONBURY,CT
gotcha
gotcha
new place: OREGON,WI
new place: JAMISON,PA
new place: LIVINGSTON,NJ
new place: MONTGOMERY VILLAGE,MD
new place: DPO,AA
new place: APEX,NC
new place: FAIRFIELD,CT
gotcha
gotcha
new place: MONROE,NC
new place: BRENTWOOD,TN
gotcha
gotcha
new place: COATESVILLE,PA
new place: HARTSDALE,NY
new place: LAKE ORION,MI
new place: PALMYRA,PA
new place: LINCOLN UNIVERSITY,PA
new place: SMITHFIELD,VA
new place: STONY BROOK,NY
new place: TRIANGLE,VA
new place: GRANITEVILLE,SC
new place: SKANEATELES,NY
gotcha
gotcha
new place: MEDFORD LAKES,NJ
new place: MONONA,WI
new place: TROY,NY
new place: ROUND ROCK,TX
gotcha
gotcha
gotcha
gotcha
new place: ATKINSON,NH
new place: SILVERDALE,PA
new place: CORTLAND,NY
new place: GLEN BURNIE,MD
new place: FALLS CURCH,VA
new place: ANDERSON,IN
gotcha
gotcha
new place: CASTLETON,NY
new place: FRISCO,TX
new place: CLEMMONS,NC
new place: PENFIELD,NY
new place: ALBEMARLE,NC
new place: ELIZABETHTOWN,PA
new place: CAMERON,NC
gotcha
gotcha
new place: GENESEO,NY
new place: ROCHESTER,MI
new place: GRAY,TN
gotcha
gotcha
new place: POWELL,WY
new place: FEEDING HILLS,MA
gotcha
gotcha
gotcha
gotcha
new place: SOUTH MILWAUKEE,WI
new place: SANTA MONICA,CA
new place: BALDWINSVILLE,NY
gotcha
gotcha
new place: SUMMERVILLE,SC
new place: LENEXA,KS
new place: MERIDEN,CT
new place: BELLE MEAD,NJ
new place: LANSDALE,PA
gotcha
gotcha
new place: CAMDEN,DE
new place: BLACKSBURG,VA
gotcha
gotcha
new place: RIDGEFIELD,NJ
new place: MILTON,WI
new place: EAST NORTHPORT,NY
new place: CLIFTON PARK,NY
new place: NEW BOSTON,NH
new place: MADISON,CT
new place: MOUNT VERNON,WA
new place: WATERTOWN,MA
new place: SEWICKLEY,PA
new place: GILFORD,NH
new place: FISHERS,IN
new place: BON AQUA,TN
new place: LAPEER,MI
new place: RIFLE,CO
new place: BLUFFTON,SC
new place: PLANO,TX
new place: POMPANO BEACH,FL
new place: DPO,AE
new place: WEXFORD,PA
new place: SIOUX FALLS,SD
new place: EDGWATER,MD
new place: TWENTYNINE PALMS,CA
new place: AVONDALE,PA
new place: WAKEFIELD,RI
new place: OAK PARK,IL
gotcha
gotcha
new place: KINGSTON,MA
new place: EVANSTON,IL
new place: APO,AP
new place: MORRISON,CO
gotcha
gotcha
new place: JIM THORPE,PA
new place: SEMINOLE,FL
new place: READING,PA
gotcha
gotcha
new place: IJAMSVILLE,MD
new place: WESTON,CT
new place: NEEDHAM,MA
new place: SAINT LOUIS,MO
new place: BERWYN,PA
gotcha
gotcha
gotcha
gotcha
gotcha
gotcha
new place: LONGMEADOW,MA
new place: HUMMELSTOWN,PA
new place: CRELLIN,MD
new place: REXFORD,NY
new place: BRADENTON,FL
new place: CONCORD,NH
new place: SPRING,TX
new place: SALISBURY,MD
new place: HYDES,MD
gotcha
gotcha
new place: AUBURNDALE,MA
new place: LAUREL,MS
new place: COLOMA,MI
new place: IRWIN,PA
new place: PAWLING,NY
new place: EASTON,PA
new place: KEY WEST,FL
gotcha
gotcha
new place: SUFFOLK,VA
new place: EDGERTON,WI
new place: SANTA CRUZ,CA
new place: PEPPERELL,MA
gotcha
gotcha
gotcha
gotcha
new place: TEMECULA,CA
new place: PAWTUCKET,RI
gotcha
gotcha
new place: WOBURN,MA
gotcha
gotcha
new place: HADDON HEIGHTS,NJ
new place: BEAVERCREEK,OH
new place: NEWPORT,RI
new place: LUTHERVILLE TIMONI,MD
new place: HOLLIDAYSBURG,PA
new place: SAUK CITY,WI
new place: STOUGHTON,WI
new place: VISTA,CA
new place: LANDISBURG,PA
new place: LAKE GROVE,NY
new place: POINT PLEASANT BEA,NJ
new place: CHARLESTON,SC
gotcha
gotcha
gotcha
gotcha
new place: EL SEGUNDOCA,CA
new place: MIDDLETOWN,MD
new place: WELCOME,MD
new place: ALLEGANY,NY
new place: MONTVILLE,NJ
new place: CLARENDON,VT
new place: BETHEL PARK,PA
gotcha
gotcha
gotcha
gotcha
new place: BLUE BELL,PA
new place: EAST MORICHES,NY
new place: RUMSON,NJ
new place: SUFFIELD,CT
gotcha
gotcha
new place: THE COLONY,TX
new place: LORDSBURG,NM
new place: WINDSOR,CT
new place: PLYMOUTH,MN
new place: CUMBERLAND,MD
new place: AKRON,OH
new place: MURFREESBORO,TN
new place: HOLLYWOOD,MD
gotcha
gotcha
new place: REDWOOD CITY,CA
new place: PHOENIX,MD
new place: CRANSTON,RI
new place: CARY,NC
new place: FLORENCE,SC
new place: OLD GREENWICH,CT
new place: SAINT CLAIR,MI
new place: PRESTO,PA
new place: LAKE HOPATCONG,NJ
new place: WEST NYACK,NY
new place: JACKSONVILLE BEACH,FL
new place: SANDWICH,MA
gotcha
gotcha
new place: FPO,AE
new place: KANEOHE BAY,HI
new place: KISSIMMEE,FL
new place: BOISE,ID
new place: OPELIKA,AL
new place: HILLSBORO,OH
gotcha
gotcha
gotcha
gotcha
new place: FAYETTEVILLE,NY
new place: FT LAUDERDALE,FL
new place: TONAWANDA,NY
gotcha
gotcha
new place: SPRINGFIELD,NJ
new place: STERLING HEIGHTS,MI
new place: HUNTINGTON,NY
new place: MUNDELEIN,ID
new place: ENGLEWOOD,CO
new place: HOLLY SPRINGS,NC
new place: KINGMAN,AZ
new place: ROSWELL,GA
new place: VERNON HILLS,IL
gotcha
gotcha
new place: CHICAGO,CO
new place: ISLIP,NY
new place: EDDINGTON,ME
new place: HUDSONVILLE,MI
gotcha
gotcha
new place: SCARSDALE,NY
new place: CAMAS,WA
new place: RIVA,MD
new place: CONESTOGA,PA
new place: MANCHESTER,CT
new place: SHERMAN OAKS,CA
new place: HANOVER,MD
new place: JANESVILLE,WI
gotcha
gotcha
gotcha
gotcha
new place: ADAMSVILLE,PA
new place: WEST ORANGE,NJ
gotcha
gotcha
new place: ELDERSBURG,MD
new place: METUCHEN,NJ
new place: ROCKFORD,IL
new place: KING GEORGE,VA
new place: WILLISTON PARK,NY
gotcha
gotcha
new place: MANSFIELD,MA
gotcha
gotcha
new place: DEDHAM,MA
new place: SWARTHMORE,PA
gotcha
gotcha
new place: SHIPPENSBURG,PA
gotcha
gotcha
new place: RIDGWAY,PA
gotcha
gotcha
new place: CABIN JOHN,MD
new place: CHRISTOIANSBURG,VA
new place: PORT ORCHARD,WA
new place: ISSAQUAH,WA
new place: DELL RAPIDS,SD
new place: CHATHAM,NJ
new place: HICKORY,NC
new place: DANBURY,CT
new place: SALEM,MA
new place: GALLATIN,TN
new place: SANDPOINT,ID
new place: OAKS,PA
new place: LINDEN,MI
new place: PINEVILLE,NC
new place: BUNNLEVEL,NC
new place: ESSEX JUNCTION,VT
new place: CUYAHOGA FALLS,OH
new place: ARNOLD,MD
gotcha
gotcha
gotcha
gotcha
new place: SAN MATEO,CA
new place: KIRKWOOD,PA
new place: CHAGRIN FALLS,OH
new place: VENTURA,CA
new place: DELRAY,WV
new place: DOWNERS GROVE,IL
new place: LONGMONT,CO
gotcha
gotcha
new place: NORTHBROOK,IL
new place: MAKAWAO,HI
gotcha
gotcha
new place: KITTY HAWK,NC
new place: LAKE OSWEGO,OR
gotcha
gotcha
new place: NEW CITY,NY
new place: ROSEDALE,MD
new place: CLIFTON,NJ
gotcha
gotcha
new place: GREENSBURG,IN
gotcha
gotcha
new place: CIBOLO,TX
new place: SHELBY TOWNSHIP,MI
new place: WESTERLY,RI
gotcha
gotcha
new place: BUTLER,NJ
new place: GLADWYNE,PA
new place: ALDIE,VA
new place: GLENSHAW,PA
new place: DILLON,CO
new place: MARSHALL,VA
new place: LOUISVILLE,CO
gotcha
gotcha
new place: EGG HARBOR TOWNSHI,NJ
new place: BROAD RUN,VA
new place: SEARINGTOWN,NY
new place: ROCHESTER,NY
gotcha
gotcha
new place: ST. JAMES,NY
gotcha
gotcha
new place: CANTON,OH
new place: JOPLIN,MO
new place: WEST BLOOMFIELD,MI
new place: DELANO,MN
new place: WEYMOUTH,MA
new place: STONE RIDGE,VA
gotcha
gotcha
new place: MEMPHIS,TN
new place: HERNON,VA
new place: OXFORD,MI
new place: HARRISONBURG,VA
new place: YUCCA VALLEY,CA
new place: HOLLYWOOD,FL
new place: VOORHEES,NJ
new place: HAMILTON,OH
gotcha
gotcha
new place: LEXINGTON PARK,MD
new place: EASTON,MD
new place: PANAMA CITY,FL
new place: WEST CHESTER,OH
new place: SOUTHERN PINES,NC
new place: WARWICK,NY
new place: MALVERN,PA
new place: BINGHAMTON,NY
new place: BOONTON,NJ
new place: POTOMAC FALLS,VA
new place: SPARROWBUSH,NY
new place: GREENWOOD,MS
new place: MACCLENNY,FL
new place: WHITEWATER,WI
new place: BILOXI,MS
new place: WHITE BEAR TOWNSHI,MN
gotcha
gotcha
gotcha
gotcha
gotcha
gotcha
new place: CHELSEA,MA
new place: STEGER,IL
new place: INCLINE VILLAGE,NV
gotcha
gotcha
new place: WESTLAKE,OH
gotcha
gotcha
new place: CORDOVA,TN
new place: ALLISON PARK,PA
gotcha
gotcha
new place: COLLINGSWOOD,NJ
new place: SANDY SPRING,MD
new place: BEAUFORT SC,SC
new place: GARDINER,ME
new place: CHEVERLY,MD
new place: HERSHEY,PA
gotcha
gotcha
new place: SHELBY,NC
new place: DOYLESTOWN,PA
new place: SOUTHAMPTON,NY
new place: KERNERSVILLE,NC
new place: WRIGHTSVILLE,PA
new place: SAUK RAPIDS,MN
new place: VERO BEACH,FL
new place: LONG ISLAND CITY,NY
gotcha
gotcha
new place: ARMADA,MI
new place: SALTILLO,MS
new place: PORTSMOUTH,VA
new place: NEW WINDSOR,NY
new place: REISTERSTOWN,MD
gotcha
gotcha
new place: DUBLIN,CA
gotcha
gotcha
new place: YORKTOWN HEIGHTS,NY
new place: SIMPSONVILLE,SC
new place: DUNSTABLE,MA
new place: BROOKLYN,OH
new place: NIANTIC,CT
new place: WARE,MA
new place: NICEVILLE,FL
new place: GREENCASTLE,PA
gotcha
gotcha
gotcha
gotcha
new place: GOLDEN,CO
new place: ST. JOHNS,FL
new place: RIVERHEAD,NY
new place: APOLLO BEACH,FL
new place: MOREHEAD CITY,NC
new place: WARMINSTER,PA
new place: POOLESVILLE,MD
new place: SANFORD,NC
new place: FAIRFAX,VT
gotcha
gotcha
new place: WALDORF,MD
new place: PEMBROKE PINES,FL
new place: VENETIA,PA
new place: MALVERN,OH
new place: MILWAUKEE,WI
new place: PEMBROKE,MA
new place: PLEASANTON,CA
gotcha
gotcha
new place: NEW LENOX,IL
gotcha
gotcha
new place: WOODLAND PARK,CO
gotcha
gotcha
new place: GREAT FALLS,VA
gotcha
gotcha
gotcha
gotcha
new place: BREMERTON,WA
new place: MIAMI,FL
new place: CORPUS CHRISTI,TX
new place: FAR HILLS,NJ
gotcha
gotcha
gotcha
gotcha
new place: BELMONT,MA
gotcha
gotcha
new place: WOODBURY,NJ
new place: NEW YORK CITY,NY
gotcha
gotcha
new place: ELKRIDGE,MD
gotcha
gotcha
new place: VESTAL,NY
new place: MARINA DEL REY,CA
new place: LEWIS CENTER,OH
new place: NEW MARKET,MD
new place: CARMEL,IN
new place: PARSIPPANY,NJ
gotcha
gotcha
new place: HAWTHORN WOODS,IL
new place: DERBY,CT
new place: LAKE IN THE HILLS,IL
new place: MILLIS,MA
gotcha
gotcha
new place: WALTHAM,MA
gotcha
gotcha
new place: GLEN ALLEN,VA
new place: ACCOKEEK,MD
new place: HOOVER,AL
new place: ROXBURY,CT
new place: SCARBOROUGH,ME
new place: MISSOULA,MT
new place: WILMOT,NH
new place: POMPTON PLAINS,NJ
new place: BOKEELIA,FL
new place: SEVEN FIELDS,PA
new place: PORT MATILDA,PA
new place: COVINGTON,KY
new place: FORT LEE,NJ
gotcha
gotcha
gotcha
gotcha
new place: WHITE RIVER JUNCTI,VT
new place: LANCASTER,CA
new place: CHEROKEE,NC
new place: MAMARONECK,NY
new place: TIMONIUM,MD
new place: ARLINGTON,TX
new place: CAMP HILL,PA
new place: CORONA,CA
gotcha
gotcha
new place: HALETHORPE,MD
new place: BOTHELL,WA
new place: WASHINGTON DC,DC
new place: MOUNT AIRY,MD
new place: WYNDMOOR,PA
new place: NEW STANTON,PA
new place: OSWEGO,NY
new place: OWENS CROSS ROADS,AL
new place: RUTLAND,VT
gotcha
gotcha
new place: BREA,CA
new place: BELLEVUE,WA
new place: PHILLIPSBURG,NJ
new place: ROCKY RIVER,OH
gotcha
gotcha
new place: BLAINE,MN
new place: GOSHEN,IN
gotcha
gotcha
gotcha
gotcha
gotcha
gotcha
new place: CASSADAGA,NY
new place: PROVIDENCE,RI
new place: FORT LAUDERDALE,FL
gotcha
gotcha
new place: ROCKMART,GA
new place: VOORHEESVILLE,NY
new place: SCOTCH PLAINS,NJ
gotcha
gotcha
new place: CONNELLSVILLE,PA
new place: OLD WESTBURY,NY
new place: CLARKSVILLE,TN
new place: LOS ANGELES,CA
gotcha
gotcha
new place: STEWARTSVILLE,NJ
gotcha
gotcha
new place: THURMONT,MD
new place: COHASSET,MA
new place: FORT WASHINGTON,MD
new place: KANEOHE,HI
gotcha
gotcha
gotcha
gotcha
new place: DELRAY BEACH,FL
new place: JERMYN,PA
new place: KILLEEN,TX
gotcha
gotcha
new place: PONTE VEDRA BEACH,FL
new place: HAMPTON,VA
new place: SCHERERVILLE,IN
gotcha
gotcha
new place: WINTER GARDEN,FL
new place: WARRENVILLE,IL
gotcha
gotcha
new place: BOONES MILL,VA
new place: LUBBOCK,TX
new place: CHICOPEE,MA
new place: WEDDINGTON,NC
new place: HAM LAKE,MN
new place: GRANDVILLE,MI
new place: YUMA,AZ
new place: WOODBURY,PA
new place: DULUTH,GA
gotcha
gotcha
new place: WILSON,NC
new place: FAIRBORN,OH
new place: FORT VALLEY,VA
new place: BRAMBLETON,VA
new place: MEDFORD,NJ
new place: WILLIAMSPORT,OH
new place: ROSELLE PARK,NJ
new place: GLEN MILLS,PA
new place: HILLSDALE,NJ
new place: LAHASKA,PA
new place: WILTON,IA
new place: ARLGINTON,VA
new place: LONG VALLEY,NJ
gotcha
gotcha
new place: PHILLIPSPORT,NY
new place: LAKELAND,FL
new place: ZIONSVILLE,IN
new place: LEBANON,NJ
new place: SHOREWOOD,WI
new place: KANSAS CITY,MO
new place: WILKESBORO,NC
gotcha
gotcha
new place: APALACHIN,NY
new place: NISKAYUNA,NY
new place: POMFRET,MD
gotcha
gotcha
gotcha
gotcha
new place: SPOTSWOOD,NJ
new place: CARY,ND
new place: SANTA CLARA,CA
new place: MUNITH,MI
new place: DUBLIN,OH
new place: MCGUIRE AFB,NJ
gotcha
gotcha
gotcha
gotcha
new place: LEONARDO,NJ
new place: SHERRILL,NY
new place: JOPPA,MD
gotcha
gotcha
new place: KIRKWOOD,MO
gotcha
gotcha
gotcha
gotcha
new place: WESTON,FL
new place: MONROE,NY
gotcha
gotcha
new place: NORTH STONINGTON,CT
new place: KENNETT SQUARE,PA
new place: PFAFFTOWN,NC
new place: PALM HARBOR,FL
new place: MONROE,MI
gotcha
gotcha
new place: BRONX,NY
new place: MAPLE GLEN,PA
new place: CUMBERLAND,RI
gotcha
gotcha
gotcha
gotcha
new place: ANGIER,NC
new place: FARMINGTON,MI
gotcha
gotcha
new place: SEABROOK,NH
new place: INTERNATIONAL FALL,MN
new place: BURR RIDGE,IL
new place: PEWAUKEE,WI
new place: POWDER SPRINGS,GA
new place: BEAVERDAM,VA
new place: TOLEDO,OH
gotcha
gotcha
new place: WASHINGTON C.H.,OH
gotcha
gotcha
new place: PARISH,NY
gotcha
gotcha
gotcha
gotcha
gotcha
gotcha
new place: MOUNTAIN GROVE,MO
gotcha
gotcha
gotcha
gotcha
new place: BERWYN,IL
gotcha
gotcha
new place: HARWOOD,MD
gotcha
gotcha
gotcha
gotcha
new place: LIBERTYVILLE,IL
new place: SARALAND,AL
gotcha
gotcha
new place: EAST BRIDGEWATER,MA
gotcha
gotcha
new place: PENN VALLEY,PA
new place: WHITE PLAINS,NY
gotcha
gotcha
gotcha
gotcha
new place: BRIDGEPORT,CT
new place: GLENN DALE,MD
new place: CLAYTON,MO
new place: OWINGS MILLS,MD
new place: ELK GROVE,CA
new place: HAPPY VALLEY,OR
new place: BRIELLE,NJ
new place: BRUNSWICK,OH
new place: SOUTH ORANGE,NJ
new place: MACOMB TWP.,MI
new place: FAIR LAWN,NJ
gotcha
gotcha
new place: GOLDSBORO,NC
new place: CORNWALL,NY
new place: ROBINSON,TX
new place: HUNTSVILLE,AL
gotcha
gotcha
gotcha
gotcha
new place: MASSAPEQUA PARK,NY
gotcha
gotcha
new place: SUNBURY,OH
gotcha
gotcha
new place: CHULA VISTA,CA
new place: LISBON,CT
new place: PORTOLA VALLEY,CA
gotcha
gotcha
new place: UNIVERSITY CITY,MO
new place: TEMPLETON,PA
new place: PEORIA,IL
gotcha
gotcha
gotcha
gotcha
gotcha
gotcha
new place: SCHWENKSVILLE,PA
new place: CHARLES CITY,VA
new place: MASON,OH
new place: SHOREVIEW,MN
new place: LYNN,MA
new place: FULSHEART,TX
new place: WAGONTOWN,PA
new place: EAST MEADOW,NY
new place: PLACENTIA,CA
new place: KAILUA,HI
new place: MARSHFIELD,MA
gotcha
gotcha
new place: ARCHDALE,NC
new place: FOREST HILLS,NY
new place: ILION,NY
gotcha
gotcha
new place: SCITUATE,MA
new place: SARANAC LAKE,NY
new place: JACKSON,MS
new place: ELIZAUBETHTOWN,PA
gotcha
gotcha
gotcha
gotcha
new place: COLUMBUS,GA
new place: MILTON,GA
new place: SMYRNA,GA
new place: SHREWSBURY,NJ
new place: LATHAM,NY
new place: SAMMAMISH,WA
new place: CINNAMINSON,NJ
new place: BROOKLY,NY
new place: LAGUNA BEACH,CA
new place: ENGLEWOO,CO
new place: WYNNEWOOD,PA
new place: SPRINGFIEDL,VA
new place: HAMDEN,CT
new place: HADDONFIELD,NJ
gotcha
gotcha
gotcha
gotcha
gotcha
gotcha
gotcha
gotcha
new place: ELKHORN,NE
new place: ALLENTOWN,PA
new place: WESTLAKE VILLAGE,CA
new place: MAHATTEN BEACH,CA
gotcha
gotcha
new place: HIGHLAND PARK,IL
new place: LA PLACE,LA
new place: DAISY,OK
gotcha
gotcha
new place: MT. SINAI,NY
new place: NORWAK,CT
gotcha
gotcha
new place: CAMDEN,ME
new place: MOUNT WASHINGTON,KY
new place: OLD SAYBROOK,CT
new place: MECHNICSVILLE,VA
gotcha
gotcha
new place: SCHENECTADY,NY
new place: LEDGEWOOD,NJ
new place: EATONTOWN,NJ
gotcha
gotcha
gotcha
gotcha
gotcha
gotcha
new place: ORION,MI
new place: WINCHESTER,CA
gotcha
gotcha
new place: COROLLA,NC
new place: COLUMBIA,MO
new place: HYDE PARK,MA
new place: QUEENS,NY
new place: CAPE ELIZABETH,ME
new place: BRUNSWICK,MD
gotcha
gotcha
gotcha
gotcha
new place: LEESPORT,PA
new place: ELLICOTT CITY,MH
new place: SWAMPSCOTT,MA
gotcha
gotcha
new place: CHALFONT,PA
new place: SALINE,MI
new place: WINDHAM,NH
gotcha
gotcha
new place: POTSDAM,NY
new place: CHESTERFIELD,MO
gotcha
gotcha
gotcha
gotcha
new place: NORTHFIELD,VT
gotcha
gotcha
gotcha
gotcha
gotcha
gotcha
gotcha
gotcha
gotcha
gotcha
new place: NORTH ROYALTON,OH
new place: DUNWOODY,GA
new place: NORTH CLARENDON,VT
gotcha
gotcha
gotcha
gotcha
new place: BRASELTON,GA
new place: OOSTBURG,WI
new place: HALEDON,NJ
gotcha
gotcha
new place: BENEDICT,MD
new place: TAPPAHANNOCK,VA
new place: WHITINSVILLE,MA
new place: AUBURN HILLS,MI
new place: FT BELVOIR,VA
new place: MARYVILLE,TN
new place: COLONIA,NJ
gotcha
gotcha
new place: MALDEN,MA
gotcha
gotcha
gotcha
gotcha
new place: NEW MILFORD,CT
gotcha
gotcha
gotcha
gotcha
new place: ALTUS,OK
new place: WEST LAFAYETTE,IN
new place: BELEWS CREEK,NC
new place: HEMPSTEAD,NY
gotcha
gotcha
gotcha
gotcha
gotcha
gotcha
new place: LAMBERTVILLE,MI
new place: BIRMINGHAM,MI
new place: CLACKAMAS,OR
new place: DENVER,CO
new place: SPRINGFIELD,MA
gotcha
gotcha
gotcha
gotcha
new place: TEANECK,NJ
gotcha
gotcha
gotcha
gotcha
new place: MILFORD,MI
gotcha
gotcha
new place: CONCORD,NC
new place: GERMANTOWN,TN
new place: COLUMBUS,IN
new place: NAPLES,FL
gotcha
gotcha
new place: ALACHUA,FL
new place: JOLIET,IL
new place: APPLE VALLEY,MN
gotcha
gotcha
new place: ROUND HILL,VA
new place: BOSTONS,MA
gotcha
gotcha
new place: WILTON,CT
new place: BETHPAGE,NY
new place: HUNTINGTOWN,MD
new place: ROSCOE,IL
gotcha
gotcha
gotcha
gotcha
new place: WAYNE,NJ
new place: MT. PROSPECT,IL
gotcha
gotcha
gotcha
gotcha
new place: WOODLANDS,TX
new place: WOODBRIDGE,CT
new place: PARKLAND,FL
new place: SPRING LAKE HEIGHT,NJ
new place: ALHAMBRA,CA
new place: LONGVIEW,TX
new place: SANDY SPRINGS,GA
new place: NEWARK,OH
new place: DUPONT,WA
new place: COLCHESTER,VT
gotcha
gotcha
new place: WHITEFISH BAY,WI
new place: NEW HOPE,MN
new place: NORWICH,CT
gotcha
gotcha
new place: PORTSMOUTH,NH
gotcha
gotcha
new place: MIDDLETOWN,NY
new place: MARBLEHEAD,MA
new place: POTTSTOWN,PA
new place: WATERVLIET,NY
gotcha
gotcha
gotcha
gotcha
gotcha
gotcha
gotcha
gotcha
new place: WILTON,CO
gotcha
gotcha
gotcha
gotcha
new place: DEFRAFF,OH
new place: CALHOUN,GA
new place: WASHINGTON,CT
new place: OSCEOLA,IN
new place: LONGWOOD,FL
new place: MOUNDS,OK
gotcha
gotcha
new place: PALOS HILLS,IL
new place: FORT BENNING,GA
new place: MADISON,AL
new place: DANIEL ISLAND,SC
gotcha
gotcha
new place: CHRISTIANSBURG,VA
new place: DEER PARK,WI
new place: SICKLERVILLE,NJ
new place: SHOREHAM,NY
new place: BOOTHBAY HARBOR,ME
new place: WHEAT RIDGE,CO
new place: TINLEY PARK,IL
new place: EDMOND,OK
gotcha
gotcha
new place: TARPON SPRINGS,FL
new place: HAGERSTOWN,MD
gotcha
gotcha
new place: LANSING,MI
new place: FORT WORTH,TX
gotcha
gotcha
new place: MARRERO,LA
new place: BLAUVELT,NY
new place: PAROLE,MD
gotcha
gotcha
new place: CHANHASSEN,MN
new place: ALLEN,TX
gotcha
gotcha
gotcha
gotcha
new place: THORNWOOD,NY
gotcha
gotcha
new place: BOONSBORO,MD
new place: CARROLLTON,VA
new place: FRANKLIN,MI
new place: EAST WINDSOR,NJ
new place: GRANVILLE,OH
new place: DAVENPORT,IA
new place: APOPKA,FL
gotcha
gotcha
gotcha
gotcha
new place: WEST SENECA,NY
new place: FRANKLIN,NJ
new place: MULLICA HILL,NJ
gotcha
gotcha
gotcha
gotcha
gotcha
gotcha
new place: NEW VERNON,NJ
new place: SPANISH FORT,AL
new place: GLEN HEAD,NY
new place: NOVI,MI
new place: LACANADA,CA
new place: ALGONQUIN,IL
new place: PEARLAND,TX
gotcha
gotcha
gotcha
gotcha
gotcha
gotcha
gotcha
gotcha
gotcha
gotcha
gotcha
gotcha
gotcha
gotcha
gotcha
gotcha
gotcha
gotcha
new place: FT. MEADE,MD
new place: GULFPORT,MS
new place: WESTWOOD,MA
new place: DIX HILLS,NY
new place: MARLBORO,NJ
new place: CHARLES TOWN,WV
new place: OAKLAND,CA
gotcha
gotcha
gotcha
gotcha
gotcha
gotcha
new place: NARVON,PA
gotcha
gotcha
new place: DAVIS,CA
gotcha
gotcha
new place: THIBODAUX,LA
new place: ALABASTER,AL
new place: MERCERSBURG,PA
new place: ST FRANCIS,WI
new place: PALM BEACH GARDENS,FL
gotcha
gotcha
new place: SAINT JOSEPH,MI
new place: SOUTH TOMS RIVER,NJ
new place: WEST CHICAGO,IL
gotcha
gotcha
new place: MOON TOWNSHIP,PA
new place: OAKWOOD HILLS,IL
new place: NORTH MYRTLE BEACH,SC
gotcha
gotcha
new place: NORTH KINGSTOWN,RI
gotcha
gotcha
new place: VALRICO,FL
new place: HILL AFB,UT
new place: TOWACO,NJ
new place: RICHMOND,TX
new place: URBANA,MD
new place: RIVERVIEW,FL
new place: GLEN ROCK,NJ
new place: CAMBRIDGE,OH
gotcha
gotcha
gotcha
gotcha
new place: COVINGTON,VA
new place: JACKSON,TN
gotcha
gotcha
new place: YORK,MD
new place: CORAOPOLIS,PA
new place: CLERMONT,FL
new place: CRESSKILL,NJ
gotcha
gotcha
new place: APEX NC 27539,NC
new place: SHIREMANSTOWN,PA
gotcha
gotcha
gotcha
gotcha
new place: WILMETTE,IL
gotcha
gotcha
new place: BIRCHRUNVILLE,PA
new place: SPENCERPORT,NY
new place: CORRYTON,TN
gotcha
gotcha
new place: ALAMEDA,CA
gotcha
gotcha
new place: PARIS,KY
new place: SIMSBURY,CT
new place: DALTON,GA
new place: ARNOLD,TX
gotcha
gotcha
new place: BATES CITY,MO
new place: EAST SYRACUSE,NY
gotcha
gotcha
gotcha
gotcha
new place: HOMEWOOD,AL
gotcha
gotcha
new place: WATKINSVILLE,GA
new place: WESTPORT,CT
new place: PALMYRA,IN
new place: ACTON,MA
new place: ALEXANDRIA VA,VA
new place: MADEIRA BEACH,FL
new place: SCOTT AFB,IL
new place: DECATUR,GA
new place: CENTERVILLE,OH
new place: SACRAMENTO,CA
new place: SAN RAMON,CA
new place: MANCHESTER,MD
new place: NEW ALBANY,OH
new place: NEWNAN,GA
gotcha
gotcha
new place: PITTSFIELD,MA
new place: SUWANEE,GA
new place: LUNENBURG,MA
new place: SOMERVILLE,NJ
new place: NEW LONDON,CT
new place: VILLANOVA,PA
new place: GORDONSVILLE,VA
new place: FALKVILLE,AL
new place: MASON CITY,IL
new place: GARDEN CITY,NY
gotcha
gotcha
gotcha
gotcha
gotcha
gotcha
gotcha
gotcha
gotcha
gotcha
new place: N POTOMAC,MD
new place: WEST FRIENDSHIP,MD
gotcha
gotcha
new place: HOLGATE,OH
new place: FRANKLIN,WI
new place: CLARENCE CENTER,NY
new place: HIGHLAND,MD
new place: MISSION VIEJO,CA
gotcha
gotcha
gotcha
gotcha
gotcha
gotcha
gotcha
gotcha
new place: COCKEYSVILLE,MD
new place: NORTH CALDWELL,NJ
gotcha
gotcha
new place: SOUTH EUCLID,OH
new place: ANTIOCH,IL
new place: HANSCOM AFB,MA
new place: PLAINSBORO,NJ
new place: ABINGTON,PA
gotcha
gotcha
new place: TROY,MI
gotcha
gotcha
new place: IRVING,TX
new place: SPRING BRANCH,TX
new place: STERLING,MA
new place: PLYMOUTH,WI
new place: FALMOUTH,ME
new place: FISKDALE,MA
new place: ALPHARETTA,GA
new place: QUANICO,VA
new place: SOUTH GRAFTON,MA
gotcha
gotcha
new place: HONOLULU,HI
new place: CORVALLIS,OR
new place: CHESTER,NY
new place: DES MOINES,IA
new place: DUNELLEN,NJ
new place: PRINCETON,NC
new place: HURLEY,NY
new place: CHESTERFIELD,VA
gotcha
gotcha
gotcha
gotcha
gotcha
gotcha
new place: ORANGEVILLE,PA
new place: FLORIDA,NY
new place: ROCKFORD,MI
new place: MARINA DEL RAY,CA
new place: BRISTOL,CT
gotcha
gotcha
new place: WOODSTOCK,IL
gotcha
gotcha
new place: LAKELAND,TN
new place: RIDGEFIELD,WA
gotcha
gotcha
new place: FORT WASHINGTON RD,MD
gotcha
gotcha
new place: BERTHOUD,CO
new place: WYOMISSING,PA
gotcha
gotcha
new place: SAINT ALBANS,WV
gotcha
gotcha
gotcha
gotcha
new place: UPPER MARLOBORO,MD
new place: SPRING LAKE,NJ
new place: NEW HYDE PARK,NY
gotcha
gotcha
gotcha
gotcha
gotcha
gotcha
gotcha
gotcha
new place: PALM BAY,FL
new place: KATY,TX
new place: SANTEE,CA
gotcha
gotcha
new place: SATELLITE BEACH,FL
new place: EL DORADO HILLS,CA
gotcha
gotcha
gotcha
gotcha
new place: FREDERICKSBURG,PA
new place: MCALLEN,TX
gotcha
gotcha
new place: MATTITUCK,NY
new place: ELLIJAY,GA
gotcha
gotcha
new place: ROCKLAND,MA
gotcha
gotcha
new place: DEKALB,IL
new place: BRIGHTON,MA
new place: JACKSON,NJ
new place: OAK RIDGE,NC
gotcha
gotcha
new place: ERIEVILLLE,NY
gotcha
gotcha
new place: APO,NY
gotcha
gotcha
new place: BLOOMINGDALE,NJ
new place: PORT HURON,MI
gotcha
gotcha
new place: FLOWERY BRANCH,GA
new place: PRINCE FREDERICK,MD
new place: DPIO,AE
gotcha
gotcha
new place: WEST HARTFORD,CT
new place: BERLIN,NJ
new place: CARMEL,NY
gotcha
gotcha
new place: GEORGETOWN,KY
new place: SOUTHINGTON,CT
new place: TRUMBULL,CO
gotcha
gotcha
gotcha
gotcha
new place: SUITLAND,MD
new place: BALLSTON LAKE,NY
new place: CROSS ROADS,TX
gotcha
gotcha
new place: WEST LINN,OR
gotcha
gotcha
new place: CHELTENHAM,MD
gotcha
gotcha
new place: SCHUYLER FALLS,NY
new place: BOXBOROUGH,MA
gotcha
gotcha
new place: LINCOLN,CA
new place: FREEHOLD,NJ
gotcha
gotcha
new place: TENAFLY,NJ
new place: JASPER,AL
new place: GAMBRILLS,MD
gotcha
gotcha
new place: MORGANTOWN,WV
new place: GLEN GARDNER,NJ
gotcha
gotcha
new place: HATTIESBURG,MS
new place: TORRANCE,CA
new place: HARBORCREEK,PA
gotcha
gotcha
new place: NASHPORT,OH
new place: WARFORDSBURG,PA
gotcha
gotcha
new place: BATESVILLE,IN
new place: EDGEWOOD,KY
gotcha
gotcha
new place: SELAH,WA
new place: ELMHURST,IL
new place: RIDGELY,MD
new place: KILL DEVIL HILLS,NC
gotcha
gotcha
new place: BAYSIDE,NY
new place: SUDBURY,MA
new place: RUSKIN,FL
new place: MIDDLETOWN,NJ
gotcha
gotcha
new place: DOVER,MA
new place: LUTHERVILLE,MD
new place: FORT MEADE,MD
gotcha
gotcha
new place: PACE,FL
new place: TICONDEROGA,NY
gotcha
gotcha
gotcha
gotcha
gotcha
gotcha
new place: LIVERPOOL,NY
gotcha
gotcha
new place: CHESTER,MA
gotcha
gotcha
gotcha
gotcha
new place: WEEHAWKEN,NJ
gotcha
gotcha
new place: HORNELL,NY
new place: TAPPAN,NY
new place: DUXBURY,VT
gotcha
gotcha
gotcha
gotcha
new place: HARRISON,OH
new place: NORTH LAUDERDALE,FL
gotcha
gotcha
new place: BARNSTABLE,MA
gotcha
gotcha
new place: BRYAN,TX
new place: CLINTON,MD
new place: OXON HILL,MD
new place: SOUTH BEND,IN
gotcha
gotcha
gotcha
gotcha
new place: ROGERSVILLE,MO
gotcha
gotcha
gotcha
gotcha
gotcha
gotcha
gotcha
gotcha
new place: MAHTOMEDI,MN
new place: VENICE,FL
new place: UNION,NJ
new place: DOUGLASSVILLE,PA
new place: CRESTVIEW,FL
new place: HARLEYSVILLE,PA
new place: YOUNGSVILLE,LA
new place: WAUWATOSA,WI
new place: CARO,MI
gotcha
gotcha
new place: CARSON,VT
new place: PITTSTOWN,NJ
gotcha
gotcha
new place: NOTTINGHAM,MD
gotcha
gotcha
new place: AVON,IN
new place: BERRYVILLE,VA
new place: HAMPDEN,ME
gotcha
gotcha
new place: MARKHAM,VA
new place: FOREST HILL,MD
new place: WHITE HALL,MD
new place: SHERBORN,MA
new place: PLANTSVILLE,CT
gotcha
gotcha
new place: SPANAWAY,WA
gotcha
gotcha
new place: FREELAND,MI
gotcha
gotcha
gotcha
gotcha
new place: LAKEVILLE,MN
gotcha
gotcha
gotcha
gotcha
gotcha
gotcha
gotcha
gotcha
new place: BEDFORD,NH
new place: CORVALLIS,MT
new place: ESSEX,MD
new place: NEWTOWN,CT
gotcha
gotcha
gotcha
gotcha
gotcha
gotcha
gotcha
gotcha
gotcha
gotcha
new place: CANTON,CT
new place: CAMPBELL,CA
gotcha
gotcha
gotcha
gotcha
new place: FRANKLIN,TN
gotcha
gotcha
gotcha
gotcha
new place: MIAMI BEACH,FL
gotcha
gotcha
new place: BLUFFTON,TX
gotcha
gotcha
new place: ROCKLIN,CA
new place: LOUDONVILLE,NY
gotcha
gotcha
new place: COPPERAS COVE,TX
new place: ARGYLE,TX
new place: BELLINGHAM,WA
gotcha
gotcha
new place: DOVERSTDOVER,NJ
new place: FARMINGTON,CT
new place: MANSFIELD,TX
gotcha
gotcha
gotcha
gotcha
new place: PALO ALTO,CA
gotcha
gotcha
gotcha
gotcha
gotcha
gotcha
gotcha
gotcha
gotcha
gotcha
gotcha
gotcha
new place: SULLIVANS ISLAND,SC
new place: UXBRIDGE,MA
new place: BRYN ATHYN,PA
gotcha
gotcha
new place: JENKINTOWN,PA
new place: BALA CYNWYD,PA
gotcha
gotcha
new place: BERKLEY HEIGHTS,NJ
gotcha
gotcha
new place: MEDINA,OH
new place: DOVER,NJ
new place: BROOKFIELD,CT
new place: OSWEGO,IL
new place: FORT MYERS,FL
new place: OXFORD,GA
gotcha
gotcha
gotcha
gotcha
gotcha
gotcha
new place: OAK RIDGE,NJ
new place: MIDDLEBURG,VA
gotcha
gotcha
gotcha
gotcha
new place: AVENUE,MD
new place: NEWTON,NJ
gotcha
gotcha
gotcha
gotcha
new place: IVYLAND,PA
new place: HIGHLANDS RANCH,CO
new place: INDIAN TRAIL,NC
gotcha
gotcha
new place: FT THOMAS,KY
new place: MISSION,KS
gotcha
gotcha
gotcha
gotcha
new place: LENOIR CITY,TN
new place: BARRINGTON,RI
new place: FAIRPORT,NY
new place: LANSDOWNE,VA
new place: HAMBURG,NY
new place: COLUMBIANA,OH
new place: COOPERSTOWN,NY
new place: EDGEWATER,MD
gotcha
gotcha
new place: AUBURN,WA
new place: PLYMOUTH,MI
gotcha
gotcha
new place: STUART,FL
new place: MUNDELEIN,IL
gotcha
gotcha
gotcha
gotcha
new place: BUFFALO,NY
gotcha
gotcha
new place: KENNER,LA
gotcha
gotcha
gotcha
gotcha
gotcha
gotcha
new place: RINGGOLD,GA
new place: HOLDEN,MA
new place: HAVERTOWN,PA
new place: CAZENOVIA,NY
new place: BROCKTON,MA
new place: MADISON,OH
new place: SAGAMORE HILLS,OH
new place: UNIONTOWN,PA
gotcha
gotcha
gotcha
gotcha
gotcha
gotcha
gotcha
gotcha
gotcha
gotcha
gotcha
gotcha
gotcha
gotcha
gotcha
gotcha
gotcha
gotcha
new place: SPRING GROVE,PA
gotcha
gotcha
new place: BENNINGTON,VT
new place: CLINTON,CT
new place: MENDOTA HEIGHTS,MN
gotcha
gotcha
new place: LAYTONSVILLE,MD
new place: SPOKANE VALLEY,WA
new place: N. WILKESBORO,NC
gotcha
gotcha
new place: FRANKLIN LAKES,NJ
new place: FLORHAM PARK,NJ
new place: NEWBERG,OR
new place: MURRAY HILL,NJ
gotcha
gotcha
new place: HUGHESVILLE,PA
new place: HOWELL,MI
new place: WOODVILLE,FL
new place: HAVERFORD,PA
new place: LAS VEGAS,NV
gotcha
gotcha
new place: SEWELL,NJ
new place: WADING RIVER,NY
gotcha
gotcha
gotcha
gotcha
new place: BRANDYWINE,MD
new place: TUALATIN,OR
new place: ROYAL OAK,MI
gotcha
gotcha
new place: STOCKTON,NJ
new place: WHEATON,IL
gotcha
gotcha
new place: COPLAY,PA
gotcha
gotcha
gotcha
gotcha
new place: LAWRENCE,PA
new place: EBENSBURG,PA
gotcha
gotcha
new place: FRANKLIN PARK,NJ
new place: BOALSBURG,PA
gotcha
gotcha
new place: ROCK HILL,SC
new place: BEVERLY,NJ
new place: HACKETTSTOWN,NJ
new place: FORT GORDON,GA
new place: OXFORD,MS
new place: NEWPORT,NC
new place: DAUPHIN,PA
new place: FOLLY BEACH,SC
new place: WETHERSFIELD,CT
gotcha
gotcha
new place: ST GEORGE,UT
gotcha
gotcha
new place: PORT CLINTON,OH
new place: COLLEGE PARK,GA
gotcha
gotcha
new place: CLARK,NJ
gotcha
gotcha
gotcha
gotcha
gotcha
gotcha
gotcha
gotcha
new place: CROMWELL,CT
new place: FORT DRUM,NY
new place: LEROY,NY
gotcha
gotcha
gotcha
gotcha
new place: IRMO,SC
gotcha
gotcha
new place: CARMEL VALLEY,CA
new place: BROOKVILLE,OH
gotcha
gotcha
gotcha
gotcha
new place: AVALON,PA
gotcha
gotcha
new place: ALLSTON,MA
gotcha
gotcha
new place: CHESHIRE,CT
new place: WESTMONT,IL
gotcha
gotcha
new place: MURPHY,TX
new place: MADBURY,NH
new place: ATLANTIC HIGHLANDS,NJ
new place: MT. AIRY,MD
new place: MEDFORD,OK
gotcha
gotcha
gotcha
gotcha
new place: SOUTH WINDSOR,CT
new place: MAHWAH,NJ
gotcha
gotcha
gotcha
gotcha
new place: PURDYS,NY
new place: BRYN MAWR,PA
gotcha
gotcha
new place: POINT PLEASANT,WV
gotcha
gotcha
new place: STEPHENS CITY,VA
new place: JAMAICA ESTATES,NY
new place: CLOVIS,NM
gotcha
gotcha
new place: WHITEHOUSE,OH
new place: BEDMINSTER,NJ
gotcha
gotcha
gotcha
gotcha
new place: SUSSEX,NJ
new place: CHICAGO,IN
new place: NORTHUMBERLAND,PA
gotcha
gotcha
gotcha
gotcha
gotcha
gotcha
gotcha
gotcha
new place: POCA,WV
gotcha
gotcha
gotcha
gotcha
new place: REELSVILLE,IN
new place: WAUKEGAN,IL
new place: CAPITOL HEIGHTS,MD
gotcha
gotcha
new place: MILLERSVILLE,PA
new place: ROCKY HILL,CT
gotcha
gotcha
gotcha
gotcha
gotcha
gotcha
new place: DEFIANCE,OH
new place: RACINE,WI
new place: ESTES PARK,CO
new place: ROANOKE RAPIDS,NC
new place: BINGHAMTON,NC
new place: LOVELAND,OH
new place: COMMERCE TOWNSHIP,MI
gotcha
gotcha
gotcha
gotcha
new place: HAMILTON,NJ
new place: EMMITSBURG,MD
gotcha
gotcha
gotcha
gotcha
gotcha
gotcha
gotcha
gotcha
new place: STAMFORD,CT
gotcha
gotcha
new place: CUPERTINO,CA
new place: GARRETT PARK,MD
new place: NEWPORT,AA
new place: FRIENDSWOOD,TX
new place: ARLINGTIN,VA
gotcha
gotcha
new place: POWAY,CA
gotcha
gotcha
gotcha
gotcha
gotcha
gotcha
new place: CRANFORD,NJ
new place: SCRANTON,PA
new place: OCEAN VIEW,DE
new place: FRANKFORD,DE
gotcha
gotcha
new place: LADSON,SC
gotcha
gotcha
new place: REDBY,MN
new place: FAIRFIELD,CA
new place: PEYTON,CO
gotcha
gotcha
gotcha
gotcha
gotcha
gotcha
gotcha
gotcha
new place: SHALIMAR,FL
new place: PINK HILL,NC
new place: E. AMHERST,NY
new place: APT 210,MA
new place: ELKINS PARK,PA
gotcha
gotcha
new place: LOGAN,UT
new place: NEW CASTLE,DE
new place: WORCESTER,MA
new place: HUNTINGTON WOODS,MI
new place: MONMOUTH JUNCTION,NJ
gotcha
gotcha
gotcha
gotcha
new place: CLINTON TOWNSHIP,MI
new place: CONOVER,NC
gotcha
gotcha
new place: MIDLAND,VA
new place: WINTER PARK,FL
gotcha
gotcha
gotcha
gotcha
new place: BANGOR,ME
gotcha
gotcha
new place: PINE BUSH,NY
gotcha
gotcha
new place: COLD SPRING HARBOR,NY
gotcha
gotcha
new place: REHOBOTH,MA
gotcha
gotcha
new place: RUMFORD,RI
new place: REVERE,MA
new place: DEARBORN HEIGHTS,MI
new place: FAYETTEVILLE,HI
new place: CARBONDALE CO,CO
gotcha
gotcha
gotcha
gotcha
gotcha
gotcha
new place: PRESCOTT,AZ
new place: MOULTRIE,GA
gotcha
gotcha
gotcha
gotcha
gotcha
gotcha
new place: QUANTICO,UT
new place: MERRIONETTE PARK,IL
new place: SAVANNAH,GA
new place: RIVERDALE,NJ
new place: PARRISH,FL
gotcha
gotcha
new place: MORAGA,CA
new place: SHELTON,CT
new place: WICHITA FALLS,TX
new place: WEEPING WATER,NE
new place: BOLINGBROOK,IL
gotcha
gotcha
new place: DARLINGTON,PA
gotcha
gotcha
new place: HIGHLAND SPRINGS,VA
new place: CARROLLTON,OH
new place: AMBLER,PA
new place: CLARENCE,NY
new place: BRAINTREE,MA
gotcha
gotcha
new place: FORT DIX,NJ
gotcha
gotcha
gotcha
gotcha
gotcha
gotcha
new place: NORTH ATTLEBORO,MA
new place: MITCHELL,SD
new place: EAST BEND,NC
gotcha
gotcha
gotcha
gotcha
gotcha
gotcha
new place: ODESSA,FL
gotcha
gotcha
new place: BERKELEY LAKE,GA
gotcha
gotcha
new place: MANHATTAN,IL
new place: ST CLAIR,MI
new place: BRIARWOOD,NY
new place: BLUFF CITY,TN
new place: EUSTIS,FL
new place: MOUNT DORA,FL
new place: PRINGFIELD,VA
new place: WEST DES MOINES,IA
gotcha
gotcha
gotcha
gotcha
gotcha
gotcha
new place: WEBSTER,MA
new place: MCB QUANTICO,VA
new place: BABYLON,NY
new place: MEDFORD,NY
new place: ELBURN,IL
gotcha
gotcha
new place: OXFORD,PA
new place: MEDINA,TX
new place: NORWOOD,MA
new place: SCHAUMBURG,IL
gotcha
gotcha
new place: OAK LAWN,IL
gotcha
gotcha
new place: THOUSAND OAKS,CA
new place: MYSTIC,CT
new place: BRIGHTON,MI
new place: MERRITT ISLAND,FL
new place: DARTMOUTH,MA
gotcha
gotcha
new place: GILLETTE,NJ
gotcha
gotcha
gotcha
gotcha
gotcha
gotcha
gotcha
gotcha
gotcha
gotcha
new place: SCOTTSDALE,AZ
gotcha
gotcha
gotcha
gotcha
new place: HAVRE DE GRACE,MD
gotcha
gotcha
gotcha
gotcha
gotcha
gotcha
new place: CONCORD,CA
new place: MIDDLEBURY,IN
new place: FISHERVILLE,KY
new place: BALLWIN,MO
new place: WILLOWICK,OH
gotcha
gotcha
gotcha
gotcha
gotcha
gotcha
gotcha
gotcha
new place: BROOKLYN,CT
gotcha
gotcha
gotcha
gotcha
new place: TEXARKANA,TX
gotcha
gotcha
new place: BELTSVILLE,MD
new place: BRANDON,VT
new place: LITTLETON,MA
gotcha
gotcha
gotcha
gotcha
new place: CATLETT,VA
new place: FINKSBURG,MD
new place: BALDWIN,NY
new place: GRAND JUNCTION,CO
gotcha
gotcha
new place: NORTH PALM BEACH,FL
gotcha
gotcha
new place: MURRIETA,CA
new place: SAINT MARYS,GA
new place: ALBANY,GA
gotcha
gotcha
gotcha
gotcha
gotcha
gotcha
gotcha
gotcha
gotcha
gotcha
gotcha
gotcha
gotcha
gotcha
new place: BRONXVILLE,NY
gotcha
gotcha
gotcha
gotcha
new place: ANDREWS AFB,MD
gotcha
gotcha
gotcha
gotcha
gotcha
gotcha
new place: NEWBURG,PA
new place: LUSBY,MD
gotcha
gotcha
new place: COCONUT CREEK,FL
new place: CLOVIS,CA
new place: SOUTHLAKE,TX
gotcha
gotcha
gotcha
gotcha
gotcha
gotcha
gotcha
gotcha
gotcha
gotcha
gotcha
gotcha
new place: LACROSSE,WI
gotcha
gotcha
new place: BISHOP,GA
new place: GAFFNEY,SC
new place: SURPRISE,AZ
new place: BUXTON,ME
new place: DUXBURY,MA
gotcha
gotcha
new place: FORKED RIVER,NJ
new place: KELLER,TX
new place: OXNARD,CA
new place: ALEDO,TX
new place: ENDWELL,NY
new place: ST. CLOUD,MN
new place: FOX POINT,WI
new place: BEAVERTON,OR
new place: SKOKIE,IL
gotcha
gotcha
gotcha
gotcha
new place: RADFORD,VA
gotcha
gotcha
gotcha
gotcha
new place: MANASQUAN,NJ
gotcha
gotcha
gotcha
gotcha
gotcha
gotcha
new place: HAGERSTOWM,MD
gotcha
gotcha
new place: NAVARRE,FL
new place: NEWPORT,KY
new place: PALM SPRINGS,CA
new place: MAITLAND,FL
new place: BOWDIONHAM,ME
gotcha
gotcha
new place: RAHWAY,NJ
new place: MASSAPEQUA,NY
gotcha
gotcha
gotcha
gotcha
new place: SODDY DAISY,TN
gotcha
gotcha
new place: EUGENE,OR
gotcha
gotcha
new place: RANDOLPH,NJ
new place: BASEHOR,KS
new place: COSTA MESA,CA
gotcha
gotcha
gotcha
gotcha
gotcha
gotcha
new place: SHERMANS DALE,PA
gotcha
gotcha
new place: CEDAR RAPIDS,IA
new place: SMRYNA,GA
new place: COMMERCE TWP,MI
gotcha
gotcha
gotcha
gotcha
new place: ELIDA,OH
new place: WESTAMPTON,NJ
gotcha
gotcha
new place: CREEDMOOR,NC
gotcha
gotcha
gotcha
gotcha
new place: SAN DEIGO,CA
gotcha
gotcha
new place: PHILADELPHIA,TN
new place: SAN CARLOS,CA
new place: CHELTENHAM,PA
gotcha
gotcha
gotcha
gotcha
new place: YONKERS,NY
new place: CONCORD,MA
gotcha
gotcha
new place: DUMN LORING,VA
gotcha
gotcha
gotcha
gotcha
gotcha
gotcha
new place: HOPKINTON,MA
gotcha
gotcha
new place: NEW EGYPT,NJ
gotcha
gotcha
gotcha
gotcha
new place: THE VILLAGE,OK
new place: WAKONDA,SD
new place: EAST ROCHESTER,NY
gotcha
gotcha
new place: POUGHQUAG,NY
new place: COLLEGE STATION,TX
new place: NEW CASTLE,PA
new place: HAMMONDSPORT,NY
new place: BERLINS,VT
new place: REGO PARK,NY
gotcha
gotcha
gotcha
gotcha
new place: BROWNSVILLE,PA
new place: BELTON,TX
new place: MERION,PA
gotcha
gotcha
gotcha
gotcha
new place: COOSADA,AL
new place: LAFAYETTE,NY
new place: GALAX,VA
gotcha
gotcha
gotcha
gotcha
gotcha
gotcha
new place: VAIL,AZ
gotcha
gotcha
gotcha
gotcha
new place: GRANBY,CT
gotcha
gotcha
new place: BRIDGEWATER,MA
new place: BATTLE CREEK,MI
gotcha
gotcha
gotcha
gotcha
new place: OAKDALE,CT
new place: CAMBRIA HEIGHTS,NY
new place: SOUTH FALLSBURG,NY
new place: SPRING VALLEY,CA
new place: ST CHARLES,MO
gotcha
gotcha
gotcha
gotcha
new place: CLARKSBRUG,MD
new place: WATERFORD,CT
gotcha
gotcha
gotcha
gotcha
new place: AUBURN,NH
new place: CLIFTON PARK,NM
new place: WEST POINT,VA
gotcha
gotcha
gotcha
gotcha
gotcha
gotcha
gotcha
gotcha
gotcha
gotcha
new place: GOTHA,FL
gotcha
gotcha
gotcha
gotcha
gotcha
gotcha
new place: DENTON,MD
gotcha
gotcha
gotcha
gotcha
new place: AMHERST,OH
new place: STRONGSVILLE,OH
new place: PRAIRIE DU SAC,WI
gotcha
gotcha
new place: HUNTINGTON,WV
new place: PRICHARD,WV
new place: HAWKINSVILLE,GA
new place: RICHMOND HTS,OH
new place: LITTLE RIVER,SC
new place: COVINGTON,WA
new place: ACWORTH,GA
gotcha
gotcha
new place: SOUTH BURLINGTON,VT
new place: FALLING WATERS,WV
new place: STEWART MANOR,NY
gotcha
gotcha
gotcha
gotcha
gotcha
gotcha
gotcha
gotcha
new place: DEER PARK,TX
new place: SMYRNA,DE
gotcha
gotcha
gotcha
gotcha
gotcha
gotcha
new place: HARRISBURG,NC
new place: AUSTELL,GA
new place: BALDWIN,MD
gotcha
gotcha
gotcha
gotcha
gotcha
gotcha
new place: APT 12,NC
gotcha
gotcha
gotcha
gotcha
new place: FT. MYERS,FL
new place: PGH,PA
gotcha
gotcha
new place: HOLLY RIDGE,NC
gotcha
gotcha
gotcha
gotcha
gotcha
gotcha
gotcha
gotcha
gotcha
gotcha
gotcha
gotcha
new place: EDEN PRAIRIE,MN
gotcha
gotcha
new place: RYE,NJ
new place: NEW BADEN,IL
new place: BREWSTER,MA
gotcha
gotcha
gotcha
gotcha
new place: GLENELG,MD
new place: MONT ALTO,PA
new place: GOSHEN,NY
gotcha
gotcha
gotcha
gotcha
new place: MILTON,FL
new place: FORT FAIRFIELD,ME
new place: BELLEVILLE,IL
gotcha
gotcha
gotcha
gotcha
gotcha
gotcha
new place: GRAPEVINE,TX
gotcha
gotcha
new place: BEALE AFB,CA
gotcha
gotcha
new place: RICHARDSON,TX
new place: ARVADA,CO
gotcha
gotcha
new place: RIVERSIDE,RI
gotcha
gotcha
gotcha
gotcha
new place: HOPE MILLS,NC
gotcha
gotcha
gotcha
gotcha
new place: HAINESPORT,NJ
new place: PARKESBURG,PA
new place: CORSICA,PA
gotcha
gotcha
new place: BLOOMFIELD,MI
new place: NEW PALESTINE,IN
new place: LINDENHURST,NY
new place: PRINCETON,WV
new place: EAST HARTFORD,CT
new place: MCHENRY,IL
gotcha
gotcha
gotcha
gotcha
gotcha
gotcha
new place: BEACHWOOD,NJ
new place: MARQUETTE,MI
new place: VALENCIA,CA
gotcha
gotcha
new place: GILBERT,AZ
new place: SUN PRAIRIE,WI
gotcha
gotcha
gotcha
gotcha
new place: WADE,NC
new place: BURLINGTON,VT
gotcha
gotcha
gotcha
gotcha
gotcha
gotcha
new place: EGG HARBOR TWP,NJ
gotcha
gotcha
new place: PUYALLUP,WA
new place: NATIONAL HARBOR,MD
new place: HARRISON,NY
gotcha
gotcha
new place: NOVATO,CA
new place: AMHERST,NH
gotcha
gotcha
gotcha
gotcha
new place: EAST QUOGUE,NY
new place: PLANTATION,FL
new place: NEW CANAAN,CT
new place: SUNRISE,FL
new place: RIO RANCHO,NM
gotcha
gotcha
new place: COLD SPRING,KY
new place: BELLMORE,NY
new place: MOUNTAIN VIEW,CA
new place: HACKENSACK,NJ
new place: NEWBURRGH,IN
new place: BUCHTEL,OH
new place: HAMMOND,IN
new place: LAKEWOOD,CO
gotcha
gotcha
gotcha
gotcha
new place: GLENMOORE,PA
gotcha
gotcha
gotcha
gotcha
gotcha
gotcha
new place: FARMERS BRANCH,TX
new place: BOYDS,MD
gotcha
gotcha
gotcha
gotcha
gotcha
gotcha
gotcha
gotcha
new place: MCKEESPORT,PA
new place: STEPHENSON,VA
gotcha
gotcha
gotcha
gotcha
gotcha
gotcha
new place: PATASKALA,OH
new place: BLUE SPRINGS,MS
new place: SABILLASVILLE,MD
new place: BIG SKY,MT
gotcha
gotcha
new place: LONDONDERRY,NH
new place: JOLIEET,IL
gotcha
gotcha
new place: RICHMOND HILL,GA
gotcha
gotcha
new place: MOUNT SAVAGE,MD
gotcha
gotcha
gotcha
gotcha
gotcha
gotcha
gotcha
gotcha
gotcha
gotcha
gotcha
gotcha
new place: NORTH LIBERTY,IA
gotcha
gotcha
new place: GLENWOOD,MD
new place: BURLINGTON,NC
new place: FEDERAL WAY,WA
gotcha
gotcha
gotcha
gotcha
gotcha
gotcha
new place: JOHNSTON,IA
new place: MOORESTOWN,NJ
gotcha
gotcha
new place: HOMERVILLE,OH
new place: CONWAY,SC
new place: SHORT HILLS,NJ
new place: MILLBURN,NJ
new place: MEDWAY,MA
gotcha
gotcha
gotcha
gotcha
gotcha
gotcha
gotcha
gotcha
gotcha
gotcha
new place: RICHFIELD,MN
gotcha
gotcha
new place: BRIDGEWATER,NJ
new place: ROYERSFORD,PA
new place: MILL VALLEY,CA
new place: LIVONIA,MI
gotcha
gotcha
new place: SHAW AFB,SC
new place: SHERWOOD,OR
new place: OLYMPIA,WA
new place: SPARTA,WI
gotcha
gotcha
gotcha
gotcha
new place: NORTH BARRINGTON,IL
new place: SPOKANE,WA
gotcha
gotcha
new place: ANDOVER,NH
new place: WALNUTPORT,PA
new place: SARATOGA SPRINGS,NY
new place: APPOMATTOX,VA
new place: THORNTON,CO
gotcha
gotcha
new place: TAYLOR,WI
new place: SHARON SPRINGS,NY
gotcha
gotcha
new place: BERLIN,CT
gotcha
gotcha
gotcha
gotcha
new place: FARMINGTON,NY
new place: LAKEWOOD,CA
new place: BETHESDA,OH
gotcha
gotcha
new place: MOUNT TABOR,NJ
new place: ST. PETERSBURG,FL
gotcha
gotcha
gotcha
gotcha
new place: COLUMBIA HEIGHTS,MN
gotcha
gotcha
new place: SILVER SPRING,VA
new place: BROADLANDS,VA
gotcha
gotcha
gotcha
gotcha
gotcha
gotcha
new place: NEW YORK,DE
gotcha
gotcha
gotcha
gotcha
gotcha
gotcha
gotcha
gotcha
gotcha
gotcha
new place: CONESUS,NY
new place: IRVINGTON,VA
new place: NONATO,CA
gotcha
gotcha
gotcha
gotcha
gotcha
gotcha
new place: WAKEFIELD,MI
new place: BILTMORE LAKE,NC
new place: CLEARWATER BEACH,FL
new place: LA MESA,CA
new place: CHELSEA,AL
new place: CENTEREACH,NY
new place: BELCAMP,MD
new place: NORTH BERGEN,NJ
gotcha
gotcha
new place: EATON,OH
gotcha
gotcha
new place: MARS,PA
gotcha
gotcha
gotcha
gotcha
new place: LOTHIAN,MD
new place: GUILFORD,CT
new place: WAYNESVILLE,MO
new place: MIDDLETOWN,CT
gotcha
gotcha
new place: PARRIS ISLAND,SC
new place: TINTON FALLS,NJ
new place: ERIE,CO
gotcha
gotcha
new place: READING,MA
gotcha
gotcha
gotcha
gotcha
new place: HAMBURG,NJ
gotcha
gotcha
new place: MANVILLE,RI
gotcha
gotcha
new place: HUNTINGTON STATION,NY
gotcha
gotcha
gotcha
gotcha
new place: HERMOSA BEACH,CA
new place: LYME,NH
new place: BARNEGAT,NJ
new place: MECHANICVILLE,NY
gotcha
gotcha
new place: VACAVILLE,CA
gotcha
gotcha
new place: AMHERST,NY
gotcha
gotcha
gotcha
gotcha
new place: SELMA,CA
new place: HAMPTON,CT
gotcha
gotcha
new place: WOODBINE,MD
new place: PALMYRA,VA
new place: WALLINGFORD,PA
gotcha
gotcha
gotcha
gotcha
new place: RANCHO CUCAMONGA,CA
gotcha
gotcha
new place: SUMTER,SC
new place: FORT WALTON BEACH,FL
new place: CENTER MORICHES,NY
gotcha
gotcha
new place: WESTFIRLD,NJ
new place: MYERSVILLE,MD
gotcha
gotcha
gotcha
gotcha
new place: ROCKY MOUNT,VA
new place: DURHAM,NH
new place: EVANSVILLE,IN
new place: MATTAPOISETT,MA
gotcha
gotcha
new place: AUDUBON,NJ
new place: AURORA,CO
gotcha
gotcha
gotcha
gotcha
gotcha
gotcha
new place: RENSSELAER,NY
new place: CHADDS FORD,PA
gotcha
gotcha
gotcha
gotcha
new place: WESTIN,FL
gotcha
gotcha
new place: HUDSON,NH
new place: PIPERSVILLE,PA
gotcha
gotcha
new place: HANOVER,MA
gotcha
gotcha
new place: CROWNSVILLE,MD
gotcha
gotcha
new place: ITHACA,NY
new place: LAFARGEVILLE,NY
gotcha
gotcha
gotcha
gotcha
new place: BRECKENRIDGE,CO
new place: WAYLAND,MA
new place: HOT SPRINGS VILLAG,AR
gotcha
gotcha
gotcha
gotcha
new place: DEARBORN,MI
gotcha
gotcha
gotcha
gotcha
gotcha
gotcha
new place: BRECKSVILLE,OH
new place: LUTZ,FL
gotcha
gotcha
new place: KATHMANDU,DC
gotcha
gotcha
gotcha
gotcha
new place: CHESTER,VA
new place: BUMPASS,VA
gotcha
gotcha
new place: WEATOGUE,CT
new place: ENID,OK
new place: ARCADE,NY
new place: LANDING,NJ
gotcha
gotcha
gotcha
gotcha
new place: CORAL SPRINGS,FL
gotcha
gotcha
new place: LAFAYETTE,LA
new place: MARYSVILLE,WA
gotcha
gotcha
new place: RYE BROOK,NY
new place: HOMER GLEN,IL
new place: MARBLE CLIFF,OH
new place: BELMONT,CA
new place: SPRINGFIELD,OH
gotcha
gotcha
gotcha
gotcha
new place: LA PLATA,MD
new place: MATHER,CA
new place: WARWICK,RI
gotcha
gotcha
gotcha
gotcha
new place: PARMA,OH
gotcha
gotcha
gotcha
gotcha
gotcha
gotcha
gotcha
gotcha
gotcha
gotcha
new place: SOUTH WALES,NY
gotcha
gotcha
new place: WATKSINVILLE,GA
new place: CENTERVILLE,GA
new place: BEULAVILLE,NC
gotcha
gotcha
gotcha
gotcha
gotcha
gotcha
gotcha
gotcha
new place: TUSTIN RANCH,CA
new place: HIGHLAND FALLS,NY
gotcha
gotcha
new place: BELLE CHASSE,LA
new place: ANDERSON,SC
new place: ANAHEIM,CA
gotcha
gotcha
gotcha
gotcha
gotcha
gotcha
gotcha
gotcha
new place: NEW BRITAIN,PA
new place: MUNCIE,IN
new place: CEDAR PARK,TX
gotcha
gotcha
new place: MOUNT LAUREL,NJ
new place: HORSHAM,PA
new place: CARDIFF,CA
new place: WARRINGTON,PA
new place: KETTERING,OH
new place: DEWITT,NY
gotcha
gotcha
new place: LAINGSBURG,MI
new place: CHESTNUT HILL COVE,MD
new place: SOUTH PORTLAND,ME
gotcha
gotcha
new place: CARROLLTON,TX
new place: SHREVEPORT,LA
gotcha
gotcha
new place: ANACORTES,WA
gotcha
gotcha
new place: GENESEO,IL
new place: HILLSBOROUGH,NJ
gotcha
gotcha
new place: LOGANVILLE,GA
new place: WEST CAPE MAY,NJ
gotcha
gotcha
new place: BRICK,NJ
gotcha
gotcha
gotcha
gotcha
new place: CLEARWATER,FL
new place: DANVILLE,CA
gotcha
gotcha
gotcha
gotcha
gotcha
gotcha
gotcha
gotcha
new place: RICHFIELD,OH
gotcha
gotcha
gotcha
gotcha
gotcha
gotcha
gotcha
gotcha
gotcha
gotcha
gotcha
gotcha
new place: AUBURN,NY
new place: GARLAND,TX
gotcha
gotcha
gotcha
gotcha
new place: HARWICH,MA
gotcha
gotcha
new place: SOUTH EASTON,MA
new place: RIDGEWOOD,NJ
new place: ONEIDA,WI
gotcha
gotcha
new place: GLEN COVE,NY
new place: HOLLAND,OH
new place: BALLSTON SPA,NY
new place: POQUOSON,VA
gotcha
gotcha
new place: HENDERSON,NV
new place: NOKESVILLE,VA
new place: POMPEY,NY
new place: STAATSBURG,NY
new place: DRAPER,UT
new place: MOUNT PLEASANT,MI
gotcha
gotcha
new place: BLAIRSTOWN,NJ
new place: NAGS HEAD,NC
gotcha
gotcha
gotcha
gotcha
gotcha
gotcha
gotcha
gotcha
new place: STRATFORD,CT
gotcha
gotcha
gotcha
gotcha
new place: PALMDALE,CA
gotcha
gotcha
gotcha
gotcha
new place: MONROVIA,MD
new place: LYNBROOK,NY
gotcha
gotcha
new place: EAST ISLIP,NY
new place: AMHERST,MA
gotcha
gotcha
new place: DPO,NY
gotcha
gotcha
new place: NORTON,MA
gotcha
gotcha
new place: BOONTON TOWNSHIP,NJ
new place: WEST HARRISON,NY
gotcha
gotcha
new place: ORANGE PARK,FL
new place: VESTAVIA HILLS,AL
new place: ELK POINT,SD
gotcha
gotcha
gotcha
gotcha
gotcha
gotcha
gotcha
gotcha
new place: WRIGHTSTOWN,WI
new place: DENVER,NC
new place: TAYLORSVILLE,UT
new place: RANDOLPH,MA
gotcha
gotcha
new place: MIAMI LAKES,FL
gotcha
gotcha
gotcha
gotcha
new place: ATLANTIC BEACH,NC
gotcha
gotcha
new place: FLEMING ISLAND,FL
gotcha
gotcha
gotcha
gotcha
gotcha
gotcha
new place: AUBURNDALE,FL
gotcha
gotcha
gotcha
gotcha
gotcha
gotcha
new place: ABINGTON,MA
new place: WEBSTER GROVES,MO
gotcha
gotcha
gotcha
gotcha
gotcha
gotcha
gotcha
gotcha
new place: FAYETTEVILLE,WV
new place: HOLLAND,NY
gotcha
gotcha
gotcha
gotcha
gotcha
gotcha
new place: WINTER HAVEN,FL
new place: PASADENA,CA
gotcha
gotcha
gotcha
gotcha
new place: SOUTH LAKE TAHOE,CA
new place: PIQUA,OH
gotcha
gotcha
gotcha
gotcha
new place: BIG LAKE,MN
new place: LOUISVILLE,OH
new place: DENTON,TX
new place: BENICIA,CA
gotcha
gotcha
new place: APT 532,MD
gotcha
gotcha
new place: KEEDYSVILLE,MD
gotcha
gotcha
new place: CHOWCHILLA,CA
gotcha
gotcha
new place: GRANTSVILLE,WV
new place: PORT HUENEME,CA
new place: NEWBURGH,ME
new place: SYRACUSE,NY
gotcha
gotcha
new place: WINTHROP,MA
new place: MCKINNEY,TX
new place: WINTRHOP,MA
new place: SARASOTA,FL
new place: LILBURN,GA
gotcha
gotcha
gotcha
gotcha
new place: DULLES,VA
new place: JOHNS CREEK,GA
gotcha
gotcha
gotcha
gotcha
gotcha
gotcha
gotcha
gotcha
new place: NILES,IL
new place: JOHNS ISLAND,SC
gotcha
gotcha
new place: MILLINGTON,TN
new place: NORTH READING,MA
gotcha
gotcha
new place: CLINTON,UT
gotcha
gotcha
new place: GLEN RIDGE,NJ
gotcha
gotcha
gotcha
gotcha
gotcha
gotcha
new place: BLOOMSBURY,NJ
new place: CHINO,CA
gotcha
gotcha
gotcha
gotcha
gotcha
gotcha
gotcha
gotcha
new place: MARSTONS MILLS,MA
gotcha
gotcha
gotcha
gotcha
new place: GREENLAND,NH
new place: WELLINGTON,FL
gotcha
gotcha
gotcha
gotcha
gotcha
gotcha
new place: EAST SANDWICH,MA
new place: MERCERVILLE,NJ
new place: AURORA,IL
gotcha
gotcha
gotcha
gotcha
new place: FALLBROOK,CA
gotcha
gotcha
gotcha
gotcha
new place: OLMSTED FALLS,OH
gotcha
gotcha
gotcha
gotcha
gotcha
gotcha
new place: CARDIFF BY THE SEA,CA
gotcha
gotcha
new place: ALBURTIS,PA
gotcha
gotcha
gotcha
gotcha
new place: ALPINE,CA
new place: GRETNA,NE
new place: DIXON,IL
new place: LONG BEACH,NY
gotcha
gotcha
gotcha
gotcha
gotcha
gotcha
new place: VAIL,CO
gotcha
gotcha
new place: MARS HILL,NC
new place: HARTSVILLE,SC
gotcha
gotcha
gotcha
gotcha
gotcha
gotcha
new place: WALLINGFORD,CT
gotcha
gotcha
new place: DALLAS,GA
gotcha
gotcha
gotcha
gotcha
gotcha
gotcha
gotcha
gotcha
new place: GAINSEVILLE,VA
gotcha
gotcha
gotcha
gotcha
new place: FRANKLINTON,NC
gotcha
gotcha
gotcha
gotcha
new place: BELLA VISTA,AR
new place: ORLANDO,DE
new place: JOHNSTON,RI
gotcha
gotcha
new place: VA BEACH,VA
gotcha
gotcha
new place: CHEEKTOWAGA,NY
new place: TROY,AL
new place: BAY CITY,MI
new place: LA PORTE CITY,IA
new place: SWISHER,IA
new place: ROGERS,AR
new place: PORT MURRAY,NJ
gotcha
gotcha
new place: FORT WAYNE,IN
new place: PINEY POINT,MD
new place: CHESTER,NJ
gotcha
gotcha
gotcha
gotcha
gotcha
gotcha
gotcha
gotcha
new place: OCEAN ISLE BEACH,NC
gotcha
gotcha
gotcha
gotcha
gotcha
gotcha
gotcha
gotcha
new place: MESA,AZ
gotcha
gotcha
gotcha
gotcha
new place: LAKEWOOD RANCH,FL
gotcha
gotcha
gotcha
gotcha
new place: PENINSULA,OH
gotcha
gotcha
gotcha
gotcha
gotcha
gotcha
gotcha
gotcha
gotcha
gotcha
new place: MOOSUP,CT
gotcha
gotcha
gotcha
gotcha
gotcha
gotcha
gotcha
gotcha
gotcha
gotcha
new place: WALFORD,IA
gotcha
gotcha
gotcha
gotcha
new place: TARAWA TERRACE,NC
new place: JEFFERSONVILLE,IN
gotcha
gotcha
new place: CHARELSTON,SC
new place: WASHINTON,DC
gotcha
gotcha
new place: VALLEY STREAM,NY
gotcha
gotcha
gotcha
gotcha
new place: NEWBURG,MO
gotcha
gotcha
gotcha
gotcha
gotcha
gotcha
new place: PORT ROYAL,SC
new place: CLARENDON HILLS,IL
new place: SEBASTIAN,FL
new place: CORONADO,CA
gotcha
gotcha
gotcha
gotcha
gotcha
gotcha
new place: KENNEIWCK,WA
gotcha
gotcha
gotcha
gotcha
gotcha
gotcha
gotcha
gotcha
gotcha
gotcha
gotcha
gotcha
gotcha
gotcha
gotcha
gotcha
gotcha
gotcha
gotcha
gotcha
new place: ARLINGTON,TN
new place: GLENCOE,IL
new place: QUAKERTOWN,PA
gotcha
gotcha
gotcha
gotcha
new place: MONTVILLE,ME
new place: SETAUKET,NY
gotcha
gotcha
new place: CEDAR GROVE,NJ
gotcha
gotcha
new place: RICHLANDS,NC
new place: TRAVERSE CITY,MI
gotcha
gotcha
gotcha
gotcha
gotcha
gotcha
new place: CUMBERLAND,VA
new place: PORTLAND,CT
gotcha
gotcha
gotcha
gotcha
gotcha
gotcha
gotcha
gotcha
gotcha
gotcha
new place: EDGEWOOD,MD
gotcha
gotcha
gotcha
gotcha
new place: OXFORD,OH
gotcha
gotcha
new place: SHAKOPEE,MN
new place: LE SUEUR,MN
new place: PITMAN,NJ
gotcha
gotcha
new place: MACEDON,NY
new place: ENOLA,PA
gotcha
gotcha
gotcha
gotcha
gotcha
gotcha
gotcha
gotcha
new place: MENLO PARK,CA
gotcha
gotcha
new place: CLAYTON,NC
new place: JAMESTOWN,NY
gotcha
gotcha
gotcha
gotcha
gotcha
gotcha
gotcha
gotcha
gotcha
gotcha
gotcha
gotcha
new place: WATCHUNG,NJ
new place: CHERRY HILL,NJ
gotcha
gotcha
gotcha
gotcha
gotcha
gotcha
gotcha
gotcha
new place: DEL RIO,TX
gotcha
gotcha
gotcha
gotcha
new place: MANHATTAN BEACH,CA
new place: MANLIUS,NY
gotcha
gotcha
new place: GLENVIEW,IL
gotcha
gotcha
new place: NEPTUNE CITY,NJ
gotcha
gotcha
gotcha
gotcha
new place: WELLS,ME
gotcha
gotcha
gotcha
gotcha
new place: KINGSTREE,SC
new place: PORTOLA HILLS,CA
new place: FREDERICK MD,MD
gotcha
gotcha
new place: OCEAN SPRINGS,MS
new place: BEAVER FALLS,PA
gotcha
gotcha
gotcha
gotcha
gotcha
gotcha
gotcha
gotcha
new place: RURAL HALL,NC
gotcha
gotcha
new place: LOUDON,TN
gotcha
gotcha
new place: HOMER,NY
new place: WARREN,RI
gotcha
gotcha
new place: ONTARIO,CA
gotcha
gotcha
new place: ASTORIA,NY
new place: GROSSE POINTE FARM,MI
new place: HEWITT,TX
gotcha
gotcha
gotcha
gotcha
new place: STEPHENVILLE,TX
new place: PISGAH FOREST,NC
new place: AUBURN,ME
new place: SCIOTA,PA
gotcha
gotcha
new place: GALLOWAY,NJ
new place: CONROE,TX
gotcha
gotcha
new place: AVON LAKE,OH
gotcha
gotcha
new place: FRAMINGHAM,MA
gotcha
gotcha
new place: MILFORD,CT
gotcha
gotcha
new place: CARLISLE,MA
new place: WILTON,NH
gotcha
gotcha
gotcha
gotcha
new place: FOREST,VA
new place: DANFORTH,IL
new place: BRIDGE CITY,TX
gotcha
gotcha
new place: POWELL,OH
gotcha
gotcha
gotcha
gotcha
new place: LINCOLN PARK,NJ
gotcha
gotcha
gotcha
gotcha
gotcha
gotcha
new place: KALAMAZOO,MI
gotcha
gotcha
new place: FLINT,MI
new place: SOMERS POINT,NJ
new place: WINDSOR,PA
new place: LANSING,KS
gotcha
gotcha
new place: EASTABOGA,AL
gotcha
gotcha
new place: ASPINWALL,PA
gotcha
gotcha
gotcha
gotcha
new place: BANGOR,PA
new place: MOUNT VERNON,NY
gotcha
gotcha
gotcha
gotcha
new place: POUGHKEEPSIE,NY
new place: BELMONT,NC
new place: CRAMERTON,NC
gotcha
gotcha
gotcha
gotcha
gotcha
gotcha
new place: MANHEIM,PA
new place: JUPITER,FL
gotcha
gotcha
gotcha
gotcha
gotcha
gotcha
new place: SIOUX CITY,IA
gotcha
gotcha
gotcha
gotcha
gotcha
gotcha
gotcha
gotcha
gotcha
gotcha
new place: SLINGERLANDS,NY
gotcha
gotcha
gotcha
gotcha
gotcha
gotcha
gotcha
gotcha
new place: KENWOOD,CA
gotcha
gotcha
new place: PIKESVILLE,MD
new place: MAINEVILLE,OH
new place: MIDDLETOWN,VA
gotcha
gotcha
new place: CLAYTON,SC
gotcha
gotcha
gotcha
gotcha
new place: EL SEGUNDO,CA
gotcha
gotcha
gotcha
gotcha
gotcha
gotcha
gotcha
gotcha
gotcha
gotcha
new place: LAKE MARY,FL
gotcha
gotcha
gotcha
gotcha
new place: NEW BERLIN,WI
new place: NORRISTOWN,PA
new place: MINDEN,NV
gotcha
gotcha
gotcha
gotcha
gotcha
gotcha
gotcha
gotcha
gotcha
gotcha
gotcha
gotcha
gotcha
gotcha
gotcha
gotcha
new place: EUREKA,CA
gotcha
gotcha
new place: LANDENBERG,PA
new place: CARTERSVILLE,GA
gotcha
gotcha
gotcha
gotcha
gotcha
gotcha
new place: WESTFORD,MA
gotcha
gotcha
new place: GALENA,OH
gotcha
gotcha
new place: MAPLE GROVE,MN
gotcha
gotcha
gotcha
gotcha
new place: PARK CITY,UT
gotcha
gotcha
gotcha
gotcha
gotcha
gotcha
new place: ELMA,NY
gotcha
gotcha
gotcha
gotcha
gotcha
gotcha
new place: DOVER,TN
gotcha
gotcha
gotcha
gotcha
gotcha
gotcha
new place: LAURELDALE,PA
new place: SHAWNEE,KS
gotcha
gotcha
gotcha
gotcha
gotcha
gotcha
gotcha
gotcha
new place: VERONA,WI
gotcha
gotcha
gotcha
gotcha
gotcha
gotcha
new place: NORWICH,VT
gotcha
gotcha
gotcha
gotcha
new place: CELEBRATION,FL
gotcha
gotcha
new place: MONROEVILLE,PA
gotcha
gotcha
new place: GFAFB,ND
gotcha
gotcha
gotcha
gotcha
new place: DANVERS,MA
gotcha
gotcha
gotcha
gotcha
new place: NAHANT,MA
gotcha
gotcha
new place: CLAY,NY
gotcha
gotcha
new place: NEW HARTFORD,NY
new place: DETROIT,MI
new place: LEESBURG,NC
new place: RAPIDAN,VA
gotcha
gotcha
gotcha
gotcha
new place: CHERRY POINT,NC
new place: LARWILL,IN
gotcha
gotcha
gotcha
gotcha
gotcha
gotcha
gotcha
gotcha
gotcha
gotcha
new place: KEESLER AFB,MS
new place: TILTON,NH
gotcha
gotcha
new place: LEAWOOD,KS
gotcha
gotcha
new place: HILLARD,OH
gotcha
gotcha
new place: PANGBURN,AR
new place: DULUTH,MN
new place: CUMBERLAND FORESID,ME
new place: KEARNEY,NE
gotcha
gotcha
new place: GAINESVILLE,GA
gotcha
gotcha
gotcha
gotcha
new place: WINDEREMERE,FL
gotcha
gotcha
gotcha
gotcha
gotcha
gotcha
new place: SAINT JAMES,NY
new place: RICHLAND HILLS,TX
gotcha
gotcha
gotcha
gotcha
new place: MENAND,NY
new place: ATLANTIC BEACH,FL
gotcha
gotcha
new place: BUCKLEY,MI
new place: MARSHALLTOWN,IA
new place: ENFIELD,NH
gotcha
gotcha
gotcha
gotcha
new place: OCOEE,FL
new place: NORTH ADAMS,MA
gotcha
gotcha
gotcha
gotcha
gotcha
gotcha
new place: MISSION HILLS,KS
gotcha
gotcha
gotcha
gotcha
gotcha
gotcha
new place: BRISTOL,VA
gotcha
gotcha
gotcha
gotcha
gotcha
gotcha
new place: WATHA,NC
gotcha
gotcha
gotcha
gotcha
new place: ADELPHI,MD
new place: BROWNSVILLE,TX
new place: METHUEN,MA
new place: BLUE SPRINGS,MO
new place: BERKLEY,MA
gotcha
gotcha
new place: LEWISVILLE,NC
new place: EDGEWATER,NJ
new place: STURBRIDGE,MA
new place: LAKE WORTH,FL
new place: MILLBURY,MA
gotcha
gotcha
gotcha
gotcha
gotcha
gotcha
gotcha
gotcha
new place: HAWTHORNE,NJ
new place: LYNN HAVEN,FL
gotcha
gotcha
new place: ORFORD,NH
gotcha
gotcha
gotcha
gotcha
new place: STONE MOUNTAIN,GA
gotcha
gotcha
gotcha
gotcha
gotcha
gotcha
gotcha
gotcha
new place: CHESTERTON,IN
gotcha
gotcha
gotcha
gotcha
new place: WANTAGH,NY
gotcha
gotcha
gotcha
gotcha
new place: HENRIETTA,NY
gotcha
gotcha
new place: ANNAPLOS,MD
new place: CHINO HILLS,CA
gotcha
gotcha
gotcha
gotcha
new place: KENMORE,WA
new place: ABERDEEN,NJ
new place: TAYLORS,SC
gotcha
gotcha
gotcha
gotcha
new place: NORTH EAST,MD
gotcha
gotcha
new place: LEAGUE CITY,TX
gotcha
gotcha
gotcha
gotcha
new place: WALDOBORO,ME
new place: HOLLISTON,MA
gotcha
gotcha
gotcha
gotcha
new place: CORE,WV
gotcha
gotcha
gotcha
gotcha
new place: TUBA CITY,AZ
gotcha
gotcha
gotcha
gotcha
new place: STONEHAM,MA
new place: WHITMAN,MA
new place:

---------------------------------------------------------------------------
KeyboardInterrupt                         Traceback (most recent call last)
<ipython-input-1-f95140139a78> in <module>()
     27     for P in Places_counts:
     28 
---> 29         if r['Location']==P:  #runner is from that place
     30                 if P in Places_dic:
     31                   #not the first time, add info to this location

KeyboardInterrupt: 

 MOSCOW MILLS,MO
gotcha
gotcha
gotcha
gotcha
new place: EAGLEVILLE,PA
new place: OAKLAND PARK,FL
gotcha
gotcha
gotcha
gotcha

In [ ]:

NCR={"Time_H_m":Time_H_m,"HTime_m":HTime_m,"Ages_H_m":Ages_H_m,
    "Time_H_f":Time_H_f,"HTime_f":HTime_f,"Ages_H_f":Ages_H_f,
    "Ages_m":Ages_m,"Time_m":Time_m,
    "Ages_f":Ages_f,"Time_f":Time_f}

#SAVE to file
import pickle 
pickle.dump( NCR, open( "NCR-set.pck", "wb" ) )
#pickle.load( open( "save.p", "rb" ) )

